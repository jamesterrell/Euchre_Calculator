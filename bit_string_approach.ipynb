{
 "cells": [
  {
   "cell_type": "code",
   "execution_count": 26,
   "metadata": {},
   "outputs": [],
   "source": [
    "from deck import full_euchre_deck\n",
    "from play_round import PlayRound, find_winners_vectorized\n",
    "from dealer import Dealer\n",
    "from branch_calc import compute_set_difference\n",
    "from sim_game import game_sim\n",
    "import pandas as pd\n",
    "import numpy as np"
   ]
  },
  {
   "cell_type": "code",
   "execution_count": 27,
   "metadata": {},
   "outputs": [
    {
     "data": {
      "text/plain": [
       "[array([[  9,   0],\n",
       "        [-11,   0],\n",
       "        [  0, -13],\n",
       "        [ 14,   0],\n",
       "        [ 13,   0]]),\n",
       " array([[-13,   0],\n",
       "        [ -9,   0],\n",
       "        [-14,   0],\n",
       "        [ 10,   0],\n",
       "        [  0, 120]]),\n",
       " array([[-12,   0],\n",
       "        [  0,  -9],\n",
       "        [-10,   0],\n",
       "        [  0,  90],\n",
       "        [  0, -11]]),\n",
       " array([[  0, -10],\n",
       "        [  0, 130],\n",
       "        [  0, 140],\n",
       "        [  0, -12],\n",
       "        [  0, 110]])]"
      ]
     },
     "execution_count": 27,
     "metadata": {},
     "output_type": "execute_result"
    }
   ],
   "source": [
    "game = Dealer(deck=full_euchre_deck ,players=4)\n",
    "game.deal_cards()\n",
    "hands5 = [game.hand1, game.hand2, game.hand3, game.hand4]\n",
    "v_hands = 5*[hands5]\n",
    "hands5\n",
    "# first_play = [game.hand1[0], game.hand1[1], game.hand1[2], game.hand1[3], game.hand1[4]]"
   ]
  },
  {
   "cell_type": "code",
   "execution_count": 28,
   "metadata": {},
   "outputs": [],
   "source": [
    "leads = [[i] for i in range(5)]"
   ]
  },
  {
   "cell_type": "code",
   "execution_count": 29,
   "metadata": {},
   "outputs": [
    {
     "name": "stdout",
     "output_type": "stream",
     "text": [
      "25\n",
      "664\n",
      "23544\n",
      "235328\n",
      "30\n",
      "1348\n",
      "44910\n",
      "456608\n",
      "20\n",
      "1968\n",
      "57471\n",
      "561256\n",
      "25\n",
      "1664\n",
      "39156\n",
      "366040\n",
      "25\n",
      "1664\n",
      "39912\n",
      "369848\n"
     ]
    },
    {
     "data": {
      "text/plain": [
       "array([1., 1., 1., 1., 1.])"
      ]
     },
     "execution_count": 29,
     "metadata": {},
     "output_type": "execute_result"
    }
   ],
   "source": [
    "np.array(list(map(game_sim, v_hands, leads)))"
   ]
  },
  {
   "cell_type": "code",
   "execution_count": 30,
   "metadata": {},
   "outputs": [
    {
     "name": "stdout",
     "output_type": "stream",
     "text": [
      "125\n",
      "7308\n",
      "204993\n",
      "1989080\n"
     ]
    },
    {
     "data": {
      "text/plain": [
       "1.0"
      ]
     },
     "execution_count": 30,
     "metadata": {},
     "output_type": "execute_result"
    }
   ],
   "source": [
    "game_sim(dealt_hands=hands5)"
   ]
  }
 ],
 "metadata": {
  "kernelspec": {
   "display_name": "ff_env",
   "language": "python",
   "name": "python3"
  },
  "language_info": {
   "codemirror_mode": {
    "name": "ipython",
    "version": 3
   },
   "file_extension": ".py",
   "mimetype": "text/x-python",
   "name": "python",
   "nbconvert_exporter": "python",
   "pygments_lexer": "ipython3",
   "version": "3.11.3"
  }
 },
 "nbformat": 4,
 "nbformat_minor": 2
}
