{
 "cells": [
  {
   "cell_type": "code",
   "execution_count": 32,
   "metadata": {},
   "outputs": [],
   "source": [
    "from deck import full_euchre_deck\n",
    "from dealer import Dealer\n",
    "from sim_game import game_sim\n",
    "from sim_game_list_comp import lc_game_sim\n",
    "from branch_calc import calc_all_possible_hands, filter_branch_by_hand\n",
    "import numpy as np"
   ]
  },
  {
   "cell_type": "code",
   "execution_count": 33,
   "metadata": {},
   "outputs": [
    {
     "data": {
      "text/plain": [
       "[array([[ 12,   0],\n",
       "        [ 11,   0],\n",
       "        [  0, 120],\n",
       "        [  0, -13],\n",
       "        [  0, -10]]),\n",
       " array([[-13,   0],\n",
       "        [ 14,   0],\n",
       "        [ 10,   0],\n",
       "        [-10,   0],\n",
       "        [  0,  -9]]),\n",
       " array([[  0, -14],\n",
       "        [  0, 140],\n",
       "        [  0, 100],\n",
       "        [  0, 135],\n",
       "        [ 13,   0]]),\n",
       " array([[  0, 130],\n",
       "        [  0,  90],\n",
       "        [-14,   0],\n",
       "        [-11,   0],\n",
       "        [ -9,   0]])]"
      ]
     },
     "execution_count": 33,
     "metadata": {},
     "output_type": "execute_result"
    }
   ],
   "source": [
    "game = Dealer(deck=full_euchre_deck ,players=4)\n",
    "game.deal_cards()\n",
    "hands5 = [game.hand1, game.hand2, game.hand3, game.hand4]\n",
    "v_hands = 5*[hands5]\n",
    "hands5\n",
    "# first_play = [game.hand1[0], game.hand1[1], game.hand1[2], game.hand1[3], game.hand1[4]]"
   ]
  },
  {
   "cell_type": "code",
   "execution_count": 34,
   "metadata": {},
   "outputs": [],
   "source": [
    "# put this here for verification and debugging purposes\n",
    "test = calc_all_possible_hands(hands5)"
   ]
  },
  {
   "cell_type": "code",
   "execution_count": 35,
   "metadata": {},
   "outputs": [
    {
     "name": "stdout",
     "output_type": "stream",
     "text": [
      "6\n",
      "6\n",
      "6\n",
      "3\n",
      "3\n"
     ]
    }
   ],
   "source": [
    "# put this here for verification and debugging purposes\n",
    "for i in range(5):\n",
    "    target = game.hand1[i]\n",
    "\n",
    "    contains_target = np.any(\n",
    "        np.all(test == target, axis=-1), axis=1\n",
    "    )\n",
    "    contains_target\n",
    "    stump = test[contains_target]\n",
    "    stump = filter_branch_by_hand(stump, game.hand2, 1, target)\n",
    "    stump = filter_branch_by_hand(stump, game.hand3, 2, target)\n",
    "    stump = filter_branch_by_hand(stump, game.hand4, 3, target)\n",
    "    print(len(stump))"
   ]
  },
  {
   "cell_type": "code",
   "execution_count": 41,
   "metadata": {},
   "outputs": [
    {
     "name": "stdout",
     "output_type": "stream",
     "text": [
      "24\n",
      "711\n",
      "6032\n",
      "18690\n"
     ]
    },
    {
     "data": {
      "text/plain": [
       "0.052969502407704656"
      ]
     },
     "execution_count": 41,
     "metadata": {},
     "output_type": "execute_result"
    }
   ],
   "source": [
    "game_sim(dealt_hands=hands5)"
   ]
  }
 ],
 "metadata": {
  "kernelspec": {
   "display_name": "ff_env",
   "language": "python",
   "name": "python3"
  },
  "language_info": {
   "codemirror_mode": {
    "name": "ipython",
    "version": 3
   },
   "file_extension": ".py",
   "mimetype": "text/x-python",
   "name": "python",
   "nbconvert_exporter": "python",
   "pygments_lexer": "ipython3",
   "version": "3.11.3"
  }
 },
 "nbformat": 4,
 "nbformat_minor": 2
}
