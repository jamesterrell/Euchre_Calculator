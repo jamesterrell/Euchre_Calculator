{
 "cells": [
  {
   "cell_type": "code",
   "execution_count": 93,
   "metadata": {},
   "outputs": [],
   "source": [
    "from deck import full_euchre_deck\n",
    "from dealer import Dealer\n",
    "from sim_game import game_sim\n",
    "from branch_calc import compute_set_difference\n",
    "import numpy as np"
   ]
  },
  {
   "cell_type": "code",
   "execution_count": 94,
   "metadata": {},
   "outputs": [],
   "source": [
    "stack_cards1 = np.array([[0, 135], [ 0, 140], [9, 0], [-9, 0], [0, -9]])"
   ]
  },
  {
   "cell_type": "code",
   "execution_count": 95,
   "metadata": {},
   "outputs": [],
   "source": [
    "test_hands = []\n",
    "for i in range(10000):\n",
    "    game = Dealer(deck=full_euchre_deck ,players=4)\n",
    "    game.stack_deck(stack_cards=stack_cards1, player=1)\n",
    "    game.deal_cards()\n",
    "    hands5 = [game.hand1, game.hand2, game.hand3, game.hand4]\n",
    "    test_hands.append(hands5)"
   ]
  },
  {
   "cell_type": "code",
   "execution_count": null,
   "metadata": {},
   "outputs": [],
   "source": [
    "results = [game_sim(dealt_hands=test, first_play=[1], second_play=[0]) for test in test_hands]"
   ]
  },
  {
   "cell_type": "code",
   "execution_count": 97,
   "metadata": {},
   "outputs": [
    {
     "data": {
      "text/plain": [
       "0.6169"
      ]
     },
     "execution_count": 97,
     "metadata": {},
     "output_type": "execute_result"
    }
   ],
   "source": [
    "win_avg = [res<.5 for res in results]\n",
    "np.mean(win_avg)"
   ]
  }
 ],
 "metadata": {
  "kernelspec": {
   "display_name": "ff_env",
   "language": "python",
   "name": "python3"
  },
  "language_info": {
   "codemirror_mode": {
    "name": "ipython",
    "version": 3
   },
   "file_extension": ".py",
   "mimetype": "text/x-python",
   "name": "python",
   "nbconvert_exporter": "python",
   "pygments_lexer": "ipython3",
   "version": "3.11.3"
  }
 },
 "nbformat": 4,
 "nbformat_minor": 2
}
