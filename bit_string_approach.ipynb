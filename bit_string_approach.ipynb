{
 "cells": [
  {
   "cell_type": "code",
   "execution_count": 21,
   "metadata": {},
   "outputs": [],
   "source": [
    "from deck import full_euchre_deck\n",
    "from play_round import PlayRound, find_winners_vectorized\n",
    "from dealer import Dealer\n",
    "from branch_calc import compute_set_difference\n",
    "import pandas as pd\n",
    "import numpy as np"
   ]
  },
  {
   "cell_type": "code",
   "execution_count": 22,
   "metadata": {},
   "outputs": [
    {
     "data": {
      "text/plain": [
       "[array([[   0,  130],\n",
       "        [   0, -135],\n",
       "        [ -11,    0],\n",
       "        [  14,    0],\n",
       "        [   0,  -13]]),\n",
       " array([[  0, -10],\n",
       "        [  0, 100],\n",
       "        [-14,   0],\n",
       "        [ -9,   0],\n",
       "        [ 11,   0]]),\n",
       " array([[  0, 120],\n",
       "        [ 12,   0],\n",
       "        [ 13,   0],\n",
       "        [ 10,   0],\n",
       "        [  0, 140]]),\n",
       " array([[  0,  -9],\n",
       "        [  0,  90],\n",
       "        [  9,   0],\n",
       "        [-13,   0],\n",
       "        [  0, 110]])]"
      ]
     },
     "execution_count": 22,
     "metadata": {},
     "output_type": "execute_result"
    }
   ],
   "source": [
    "game = Dealer(deck=full_euchre_deck ,players=4)\n",
    "game.deal_cards()\n",
    "hands5 = [game.hand1, game.hand2, game.hand3, game.hand4]\n",
    "hands5\n",
    "# first_play = [game.hand1[0], game.hand1[1], game.hand1[2], game.hand1[3], game.hand1[4]]"
   ]
  },
  {
   "cell_type": "code",
   "execution_count": 23,
   "metadata": {},
   "outputs": [],
   "source": [
    "score = []\n",
    "round1_tricks = []"
   ]
  },
  {
   "cell_type": "code",
   "execution_count": 24,
   "metadata": {},
   "outputs": [],
   "source": [
    "for i in range(5):\n",
    "    round1 = PlayRound(hands=hands5, lead=0, card_play=i)\n",
    "    round1_play = round1.play_round()\n",
    "    round1_tricks.append(round1_play)\n",
    "    score.append(find_winners_vectorized(leads=np.zeros(len(round1_play), dtype=int), tricks=round1_play))\n",
    "score = np.concatenate(score)\n",
    "round1_tricks = np.concatenate(round1_tricks)\n",
    "round2_hands = compute_set_difference(len(round1_tricks)*[hands5], round1_tricks)"
   ]
  },
  {
   "cell_type": "code",
   "execution_count": 25,
   "metadata": {},
   "outputs": [
    {
     "data": {
      "text/plain": [
       "(26, 26)"
      ]
     },
     "execution_count": 25,
     "metadata": {},
     "output_type": "execute_result"
    }
   ],
   "source": [
    "len(score), len(round2_hands)"
   ]
  },
  {
   "cell_type": "code",
   "execution_count": 26,
   "metadata": {},
   "outputs": [],
   "source": [
    "round2_score = []\n",
    "round2_tricks = []\n",
    "round3_hands = []"
   ]
  },
  {
   "cell_type": "code",
   "execution_count": 27,
   "metadata": {},
   "outputs": [],
   "source": [
    "for i, j in zip(round2_hands, score):\n",
    "    for k in range(4):\n",
    "        round2 = PlayRound(hands=i, lead=j, card_play=k)\n",
    "        round2_play = round2.play_round()\n",
    "        round2_tricks.append(round2_play)\n",
    "        round2_score.append(find_winners_vectorized(leads=len(round2_play)*[j], tricks=round2_play))\n",
    "        test = len(round2_play)*[i]\n",
    "        round3_hands.append(test)\n",
    "round2_score = np.concatenate(round2_score)\n",
    "round2_tricks = np.concatenate(round2_tricks)\n",
    "round3_hands = np.concatenate(round3_hands)\n",
    "round3_hands_comp = compute_set_difference(round3_hands, round2_tricks)"
   ]
  },
  {
   "cell_type": "code",
   "execution_count": 28,
   "metadata": {},
   "outputs": [
    {
     "data": {
      "text/plain": [
       "(532, 532, 532, 532)"
      ]
     },
     "execution_count": 28,
     "metadata": {},
     "output_type": "execute_result"
    }
   ],
   "source": [
    "len(round2_tricks), len(round2_score), len(round3_hands), len(round3_hands_comp)"
   ]
  },
  {
   "cell_type": "code",
   "execution_count": 29,
   "metadata": {},
   "outputs": [],
   "source": [
    "round3_score = []\n",
    "round3_tricks = []\n",
    "round4_hands = []"
   ]
  },
  {
   "cell_type": "code",
   "execution_count": 30,
   "metadata": {},
   "outputs": [],
   "source": [
    "for i, j in zip(round3_hands_comp, round2_score):\n",
    "    for k in range(3):\n",
    "        round3 = PlayRound(hands=i, lead=j, card_play=k)\n",
    "        round3_play = round3.play_round()\n",
    "        round3_tricks.append(round3_play)\n",
    "        round3_score.append(find_winners_vectorized(leads=len(round3_play)*[j], tricks=round3_play))\n",
    "        test = len(round3_play)*[i]\n",
    "        round4_hands.append(test)\n",
    "round3_score = np.concatenate(round3_score)\n",
    "round3_tricks = np.concatenate(round3_tricks)\n",
    "round4_hands = np.concatenate(round4_hands)\n",
    "round4_hands_comp = compute_set_difference(round4_hands, round3_tricks)"
   ]
  },
  {
   "cell_type": "code",
   "execution_count": 31,
   "metadata": {},
   "outputs": [],
   "source": [
    "round4_score = []\n",
    "round4_tricks = []\n",
    "round5_hands = []\n"
   ]
  },
  {
   "cell_type": "code",
   "execution_count": 32,
   "metadata": {},
   "outputs": [],
   "source": [
    "for i, j in zip(round4_hands_comp, round3_score):\n",
    "    for k in range(2):\n",
    "        round4 = PlayRound(hands=i, lead=j, card_play=k)\n",
    "        round4_play = round4.play_round()\n",
    "        round4_tricks.append(round4_play)\n",
    "        round4_score.append(find_winners_vectorized(leads=len(round4_play)*[j], tricks=round4_play))\n",
    "        test = len(round4_play)*[i]\n",
    "        round5_hands.append(test)\n",
    "round4_score = np.concatenate(round4_score)\n",
    "round4_tricks = np.concatenate(round4_tricks)\n",
    "round5_hands = np.concatenate(round5_hands)\n",
    "round5_hands_comp = compute_set_difference(round5_hands, round4_tricks)"
   ]
  },
  {
   "cell_type": "code",
   "execution_count": 33,
   "metadata": {},
   "outputs": [
    {
     "data": {
      "text/plain": [
       "(41168, 41168, 41168)"
      ]
     },
     "execution_count": 33,
     "metadata": {},
     "output_type": "execute_result"
    }
   ],
   "source": [
    "len(round4_score), len(round4_tricks), len(round5_hands_comp)"
   ]
  },
  {
   "cell_type": "code",
   "execution_count": 34,
   "metadata": {},
   "outputs": [],
   "source": [
    "round5_score = []"
   ]
  },
  {
   "cell_type": "code",
   "execution_count": 35,
   "metadata": {},
   "outputs": [],
   "source": [
    "for i, j in zip(round5_hands_comp, round4_score):\n",
    "    round5 = PlayRound(hands=i, lead=j, card_play=0)\n",
    "    round5_play = round5.play_round()\n",
    "    round5_score.append(find_winners_vectorized(leads=len(round5_play)*[j], tricks=round5_play))"
   ]
  },
  {
   "cell_type": "code",
   "execution_count": 36,
   "metadata": {},
   "outputs": [
    {
     "data": {
      "text/plain": [
       "41168"
      ]
     },
     "execution_count": 36,
     "metadata": {},
     "output_type": "execute_result"
    }
   ],
   "source": [
    "len(round5_score)"
   ]
  },
  {
   "cell_type": "code",
   "execution_count": 37,
   "metadata": {},
   "outputs": [
    {
     "data": {
      "text/plain": [
       "41168"
      ]
     },
     "execution_count": 37,
     "metadata": {},
     "output_type": "execute_result"
    }
   ],
   "source": [
    "len(np.concatenate(round5_score))"
   ]
  },
  {
   "cell_type": "code",
   "execution_count": 38,
   "metadata": {},
   "outputs": [
    {
     "ename": "NameError",
     "evalue": "name 'stop' is not defined",
     "output_type": "error",
     "traceback": [
      "\u001b[1;31m---------------------------------------------------------------------------\u001b[0m",
      "\u001b[1;31mNameError\u001b[0m                                 Traceback (most recent call last)",
      "Cell \u001b[1;32mIn[38], line 1\u001b[0m\n\u001b[1;32m----> 1\u001b[0m stop\n",
      "\u001b[1;31mNameError\u001b[0m: name 'stop' is not defined"
     ]
    }
   ],
   "source": [
    "stop"
   ]
  },
  {
   "cell_type": "code",
   "execution_count": null,
   "metadata": {},
   "outputs": [
    {
     "data": {
      "text/plain": [
       "487"
      ]
     },
     "execution_count": 150,
     "metadata": {},
     "output_type": "execute_result"
    }
   ],
   "source": [
    "len(score)+len(round2_score)+len(round3_score)+len(round4_score)+len(round5_score)"
   ]
  },
  {
   "cell_type": "code",
   "execution_count": null,
   "metadata": {},
   "outputs": [],
   "source": [
    "res_df = pd.DataFrame(r5_full_res, columns=['r1_winner', 'r2_winner', 'r3_winner', 'r4_winner', 'r5_winner'])"
   ]
  },
  {
   "cell_type": "code",
   "execution_count": null,
   "metadata": {},
   "outputs": [
    {
     "data": {
      "text/plain": [
       "Index(['r1_winner', 'r2_winner', 'r3_winner', 'r4_winner', 'r5_winner'], dtype='object')"
      ]
     },
     "execution_count": 152,
     "metadata": {},
     "output_type": "execute_result"
    }
   ],
   "source": [
    "res_df.columns"
   ]
  },
  {
   "cell_type": "code",
   "execution_count": null,
   "metadata": {},
   "outputs": [],
   "source": [
    "cols = ['r1_winner', 'r2_winner', 'r3_winner', 'r4_winner', 'r5_winner']\n",
    "\n",
    "for i in cols:\n",
    "    res_df[f'{i}_team'] = res_df[i] % 2"
   ]
  },
  {
   "cell_type": "code",
   "execution_count": null,
   "metadata": {},
   "outputs": [
    {
     "data": {
      "text/plain": [
       "Index(['r1_winner', 'r2_winner', 'r3_winner', 'r4_winner', 'r5_winner',\n",
       "       'r1_winner_team', 'r2_winner_team', 'r3_winner_team', 'r4_winner_team',\n",
       "       'r5_winner_team'],\n",
       "      dtype='object')"
      ]
     },
     "execution_count": 154,
     "metadata": {},
     "output_type": "execute_result"
    }
   ],
   "source": [
    "res_df.columns"
   ]
  },
  {
   "cell_type": "code",
   "execution_count": null,
   "metadata": {},
   "outputs": [],
   "source": [
    "res_df['points'] = res_df['r1_winner_team'] + res_df['r2_winner_team'] + res_df['r3_winner_team'] + res_df['r4_winner_team'] + res_df['r5_winner_team']"
   ]
  },
  {
   "cell_type": "code",
   "execution_count": null,
   "metadata": {},
   "outputs": [],
   "source": [
    "res_df['winner'] = np.where(res_df['points']>2, 1, 0)"
   ]
  },
  {
   "cell_type": "code",
   "execution_count": null,
   "metadata": {},
   "outputs": [
    {
     "data": {
      "text/plain": [
       "nan"
      ]
     },
     "execution_count": 157,
     "metadata": {},
     "output_type": "execute_result"
    }
   ],
   "source": [
    "res_df['winner'].mean()"
   ]
  }
 ],
 "metadata": {
  "kernelspec": {
   "display_name": "ff_env",
   "language": "python",
   "name": "python3"
  },
  "language_info": {
   "codemirror_mode": {
    "name": "ipython",
    "version": 3
   },
   "file_extension": ".py",
   "mimetype": "text/x-python",
   "name": "python",
   "nbconvert_exporter": "python",
   "pygments_lexer": "ipython3",
   "version": "3.11.3"
  }
 },
 "nbformat": 4,
 "nbformat_minor": 2
}
