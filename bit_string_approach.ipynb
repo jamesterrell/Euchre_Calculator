{
 "cells": [
  {
   "cell_type": "code",
   "execution_count": 178,
   "metadata": {},
   "outputs": [],
   "source": [
    "from deck import full_euchre_deck\n",
    "from play_round import PlayRound\n",
    "from dealer import Dealer\n",
    "import pandas as pd\n",
    "import numpy as np"
   ]
  },
  {
   "cell_type": "code",
   "execution_count": 179,
   "metadata": {},
   "outputs": [
    {
     "data": {
      "text/plain": [
       "[array([[ 10,   0],\n",
       "        [  0,  90],\n",
       "        [  0, -13],\n",
       "        [ 13,   0],\n",
       "        [ 11,   0]]),\n",
       " array([[   0,  120],\n",
       "        [   0, -135],\n",
       "        [ -13,    0],\n",
       "        [  12,    0],\n",
       "        [   0,  -12]]),\n",
       " array([[-10,   0],\n",
       "        [-11,   0],\n",
       "        [  0, 140],\n",
       "        [  0, 130],\n",
       "        [  0, -11]]),\n",
       " array([[-14,   0],\n",
       "        [-12,   0],\n",
       "        [  0, 100],\n",
       "        [  0, -10],\n",
       "        [  9,   0]])]"
      ]
     },
     "execution_count": 179,
     "metadata": {},
     "output_type": "execute_result"
    }
   ],
   "source": [
    "game = Dealer(deck=full_euchre_deck ,players=4)\n",
    "game.deal_cards()\n",
    "hands5 = [game.hand1, game.hand2, game.hand3, game.hand4]\n",
    "hands5\n",
    "# first_play = [game.hand1[0], game.hand1[1], game.hand1[2], game.hand1[3], game.hand1[4]]"
   ]
  },
  {
   "cell_type": "code",
   "execution_count": 272,
   "metadata": {},
   "outputs": [],
   "source": [
    "score = []\n",
    "round2_hands = []"
   ]
  },
  {
   "cell_type": "code",
   "execution_count": 273,
   "metadata": {},
   "outputs": [],
   "source": [
    "for i in range(5):\n",
    "    round1 = PlayRound(hands=hands5, lead=0, card_play=i)\n",
    "    for j in range(125):\n",
    "        try: \n",
    "            round1.play_round(bit=j)\n",
    "            round2_hands.append(round1.next_round_hands)\n",
    "            score.append(round1.round_winner)\n",
    "\n",
    "        except IndexError:\n",
    "            break"
   ]
  },
  {
   "cell_type": "code",
   "execution_count": 274,
   "metadata": {},
   "outputs": [
    {
     "data": {
      "text/plain": [
       "(20, 20)"
      ]
     },
     "execution_count": 274,
     "metadata": {},
     "output_type": "execute_result"
    }
   ],
   "source": [
    "len(round2_hands), len(score)"
   ]
  },
  {
   "cell_type": "code",
   "execution_count": 275,
   "metadata": {},
   "outputs": [],
   "source": [
    "round2_score = []\n",
    "round3_hands = []\n",
    "r2_full_res = []"
   ]
  },
  {
   "cell_type": "code",
   "execution_count": 276,
   "metadata": {},
   "outputs": [],
   "source": [
    "for i, j in zip(round2_hands, score):\n",
    "    for k in range(4):\n",
    "        round2 = PlayRound(hands=i, lead=j, card_play=k)\n",
    "        for m in range(64):\n",
    "            try: \n",
    "                round2.play_round(bit=m)\n",
    "                round3_hands.append(round2.next_round_hands)\n",
    "                round2_score.append(round2.round_winner)\n",
    "                r2_full_res.append([j, round2.round_winner])\n",
    "\n",
    "            except IndexError:\n",
    "                break"
   ]
  },
  {
   "cell_type": "code",
   "execution_count": 277,
   "metadata": {},
   "outputs": [
    {
     "data": {
      "text/plain": [
       "(776, 776)"
      ]
     },
     "execution_count": 277,
     "metadata": {},
     "output_type": "execute_result"
    }
   ],
   "source": [
    "len(round2_score), len(round3_hands)"
   ]
  },
  {
   "cell_type": "code",
   "execution_count": 278,
   "metadata": {},
   "outputs": [],
   "source": [
    "round3_score = []\n",
    "round4_hands = []\n",
    "r3_full_res = []"
   ]
  },
  {
   "cell_type": "code",
   "execution_count": 279,
   "metadata": {},
   "outputs": [],
   "source": [
    "for h, i, j in zip(r2_full_res, round3_hands, round2_score):\n",
    "    for k in range(3):\n",
    "        round3 = PlayRound(hands=i, lead=j, card_play=k)\n",
    "        for m in range(27):\n",
    "            try: \n",
    "                round3.play_round(bit=m)\n",
    "                round4_hands.append(round3.next_round_hands)\n",
    "                round3_score.append(round3.round_winner)\n",
    "                r3_full_res.append([h[0], h[1], round3.round_winner])\n",
    "\n",
    "            except IndexError:\n",
    "                break"
   ]
  },
  {
   "cell_type": "code",
   "execution_count": 280,
   "metadata": {},
   "outputs": [
    {
     "data": {
      "text/plain": [
       "15471"
      ]
     },
     "execution_count": 280,
     "metadata": {},
     "output_type": "execute_result"
    }
   ],
   "source": [
    "len(round3_score)"
   ]
  },
  {
   "cell_type": "code",
   "execution_count": 281,
   "metadata": {},
   "outputs": [],
   "source": [
    "round4_score = []\n",
    "round5_hands = []\n",
    "r4_full_res = []"
   ]
  },
  {
   "cell_type": "code",
   "execution_count": 282,
   "metadata": {},
   "outputs": [],
   "source": [
    "for h, i, j in zip(r3_full_res, round4_hands, round3_score):\n",
    "    for k in range(2):\n",
    "        round4 = PlayRound(hands=i, lead=j, card_play=k)\n",
    "        for m in range(8):\n",
    "            try: \n",
    "                round4.play_round(bit=m)\n",
    "                round5_hands.append(round4.next_round_hands)\n",
    "                round4_score.append(round4.round_winner)\n",
    "                r4_full_res.append([h[0], h[1], h[2], round4.round_winner])\n",
    "\n",
    "            except IndexError:\n",
    "                break"
   ]
  },
  {
   "cell_type": "code",
   "execution_count": 283,
   "metadata": {},
   "outputs": [
    {
     "data": {
      "text/plain": [
       "107568"
      ]
     },
     "execution_count": 283,
     "metadata": {},
     "output_type": "execute_result"
    }
   ],
   "source": [
    "len(round4_score)"
   ]
  },
  {
   "cell_type": "code",
   "execution_count": 284,
   "metadata": {},
   "outputs": [],
   "source": [
    "round5_score = []\n",
    "r5_full_res = []"
   ]
  },
  {
   "cell_type": "code",
   "execution_count": 285,
   "metadata": {},
   "outputs": [],
   "source": [
    "for h, i, j in zip(r4_full_res, round5_hands, round4_score):\n",
    "    round5 = PlayRound(hands=i, lead=j, card_play=0)\n",
    "    round5.play_round(bit=0)\n",
    "    round5_score.append(round5.round_winner)\n",
    "    r5_full_res.append([h[0], h[1], h[2], h[3], round5.round_winner])"
   ]
  },
  {
   "cell_type": "code",
   "execution_count": 286,
   "metadata": {},
   "outputs": [
    {
     "data": {
      "text/plain": [
       "107568"
      ]
     },
     "execution_count": 286,
     "metadata": {},
     "output_type": "execute_result"
    }
   ],
   "source": [
    "len(round5_score)"
   ]
  },
  {
   "cell_type": "code",
   "execution_count": 287,
   "metadata": {},
   "outputs": [
    {
     "data": {
      "text/plain": [
       "231403"
      ]
     },
     "execution_count": 287,
     "metadata": {},
     "output_type": "execute_result"
    }
   ],
   "source": [
    "len(score)+len(round2_score)+len(round3_score)+len(round4_score)+len(round5_score)"
   ]
  },
  {
   "cell_type": "code",
   "execution_count": 288,
   "metadata": {},
   "outputs": [],
   "source": [
    "res_df = pd.DataFrame(r5_full_res, columns=['r1_winner', 'r2_winner', 'r3_winner', 'r4_winner', 'r5_winner'])"
   ]
  },
  {
   "cell_type": "code",
   "execution_count": 289,
   "metadata": {},
   "outputs": [
    {
     "data": {
      "text/plain": [
       "Index(['r1_winner', 'r2_winner', 'r3_winner', 'r4_winner', 'r5_winner'], dtype='object')"
      ]
     },
     "execution_count": 289,
     "metadata": {},
     "output_type": "execute_result"
    }
   ],
   "source": [
    "res_df.columns"
   ]
  },
  {
   "cell_type": "code",
   "execution_count": 290,
   "metadata": {},
   "outputs": [],
   "source": [
    "cols = ['r1_winner', 'r2_winner', 'r3_winner', 'r4_winner', 'r5_winner']\n",
    "\n",
    "for i in cols:\n",
    "    res_df[f'{i}_team'] = res_df[i] % 2"
   ]
  },
  {
   "cell_type": "code",
   "execution_count": 291,
   "metadata": {},
   "outputs": [
    {
     "data": {
      "text/plain": [
       "Index(['r1_winner', 'r2_winner', 'r3_winner', 'r4_winner', 'r5_winner',\n",
       "       'r1_winner_team', 'r2_winner_team', 'r3_winner_team', 'r4_winner_team',\n",
       "       'r5_winner_team'],\n",
       "      dtype='object')"
      ]
     },
     "execution_count": 291,
     "metadata": {},
     "output_type": "execute_result"
    }
   ],
   "source": [
    "res_df.columns"
   ]
  },
  {
   "cell_type": "code",
   "execution_count": 292,
   "metadata": {},
   "outputs": [],
   "source": [
    "res_df['points'] = res_df['r1_winner_team'] + res_df['r2_winner_team'] + res_df['r3_winner_team'] + res_df['r4_winner_team'] + res_df['r5_winner_team']"
   ]
  },
  {
   "cell_type": "code",
   "execution_count": 293,
   "metadata": {},
   "outputs": [],
   "source": [
    "res_df['winner'] = np.where(res_df['points']>2, 1, 0)"
   ]
  },
  {
   "cell_type": "code",
   "execution_count": 294,
   "metadata": {},
   "outputs": [
    {
     "data": {
      "text/plain": [
       "0.26271753681392235"
      ]
     },
     "execution_count": 294,
     "metadata": {},
     "output_type": "execute_result"
    }
   ],
   "source": [
    "res_df['winner'].mean()"
   ]
  }
 ],
 "metadata": {
  "kernelspec": {
   "display_name": "ff_env",
   "language": "python",
   "name": "python3"
  },
  "language_info": {
   "codemirror_mode": {
    "name": "ipython",
    "version": 3
   },
   "file_extension": ".py",
   "mimetype": "text/x-python",
   "name": "python",
   "nbconvert_exporter": "python",
   "pygments_lexer": "ipython3",
   "version": "3.11.3"
  }
 },
 "nbformat": 4,
 "nbformat_minor": 2
}
