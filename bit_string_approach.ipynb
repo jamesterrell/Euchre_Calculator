{
 "cells": [
  {
   "cell_type": "code",
   "execution_count": 4,
   "metadata": {},
   "outputs": [],
   "source": [
    "from deck import full_euchre_deck\n",
    "from dealer import Dealer\n",
    "from sim_game import game_sim\n",
    "from sim_game_list_comp import lc_game_sim\n",
    "from branch_calc import calc_all_possible_hands, filter_branch_by_hand\n",
    "import numpy as np"
   ]
  },
  {
   "cell_type": "code",
   "execution_count": 5,
   "metadata": {},
   "outputs": [
    {
     "data": {
      "text/plain": [
       "[array([[ 10,   0],\n",
       "        [ 11,   0],\n",
       "        [-12,   0],\n",
       "        [  0, 140],\n",
       "        [  0, -14]]),\n",
       " array([[  0, 120],\n",
       "        [  0, 135],\n",
       "        [  0, -12],\n",
       "        [  0, -10],\n",
       "        [ 14,   0]]),\n",
       " array([[-13,   0],\n",
       "        [-14,   0],\n",
       "        [  0,  -9],\n",
       "        [  9,   0],\n",
       "        [  0,  90]]),\n",
       " array([[  0, 130],\n",
       "        [ 13,   0],\n",
       "        [  0, 100],\n",
       "        [-10,   0],\n",
       "        [-11,   0]])]"
      ]
     },
     "execution_count": 5,
     "metadata": {},
     "output_type": "execute_result"
    }
   ],
   "source": [
    "game = Dealer(deck=full_euchre_deck ,players=4)\n",
    "game.deal_cards()\n",
    "hands5 = [game.hand1, game.hand2, game.hand3, game.hand4]\n",
    "v_hands = 5*[hands5]\n",
    "hands5\n",
    "# first_play = [game.hand1[0], game.hand1[1], game.hand1[2], game.hand1[3], game.hand1[4]]"
   ]
  },
  {
   "cell_type": "code",
   "execution_count": 6,
   "metadata": {},
   "outputs": [
    {
     "name": "stdout",
     "output_type": "stream",
     "text": [
      "12\n",
      "129\n",
      "1109\n",
      "5314\n"
     ]
    },
    {
     "data": {
      "text/plain": [
       "0.8242378622506586"
      ]
     },
     "execution_count": 6,
     "metadata": {},
     "output_type": "execute_result"
    }
   ],
   "source": [
    "game_sim(dealt_hands=hands5)"
   ]
  }
 ],
 "metadata": {
  "kernelspec": {
   "display_name": "ff_env",
   "language": "python",
   "name": "python3"
  },
  "language_info": {
   "codemirror_mode": {
    "name": "ipython",
    "version": 3
   },
   "file_extension": ".py",
   "mimetype": "text/x-python",
   "name": "python",
   "nbconvert_exporter": "python",
   "pygments_lexer": "ipython3",
   "version": "3.11.3"
  }
 },
 "nbformat": 4,
 "nbformat_minor": 2
}
