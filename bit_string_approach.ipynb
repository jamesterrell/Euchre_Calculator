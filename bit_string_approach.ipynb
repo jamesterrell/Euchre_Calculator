{
 "cells": [
  {
   "cell_type": "code",
   "execution_count": 21,
   "metadata": {},
   "outputs": [],
   "source": [
    "from deck import full_euchre_deck\n",
    "# from dealer import Dealer\n",
    "from sim_game import game_sim\n",
    "from branch_calc import compute_set_difference\n",
    "import numpy as np"
   ]
  },
  {
   "cell_type": "code",
   "execution_count": 22,
   "metadata": {},
   "outputs": [],
   "source": [
    "from dataclasses import dataclass\n",
    "\n",
    "@dataclass\n",
    "class Dealer:\n",
    "    deck: np.ndarray\n",
    "    players: int\n",
    "\n",
    "\n",
    "    def __post_init__(self):\n",
    "        self.hands = {}\n",
    "        for i in range(1, 5):\n",
    "            self.hands[f'hand{i}'] = []\n",
    "\n",
    "    def stack_deck(self, stack_cards: np.array, player: int):\n",
    "        self.hands[f'hand{player}'] = stack_cards\n",
    "        remove = np.isin(self.deck, stack_cards).all(axis=1)\n",
    "        self.deck = self.deck[~remove]\n",
    "        return self.hands[f'hand{player}']\n",
    "    \n",
    "    def deal_cards(self) -> None:\n",
    "        remaining_cards = np.arange(0, len(self.deck))\n",
    "\n",
    "        \n",
    "        # Deal 5 cards to players\n",
    "        for i in self.hands:\n",
    "            card_count = len(self.hands[i])\n",
    "            if card_count == 0 :\n",
    "                deal = np.random.choice(remaining_cards, size=5, replace=False)\n",
    "                dealt_hand = self.deck[deal]\n",
    "                self.hands[i] = dealt_hand \n",
    "                remaining_cards = np.setdiff1d(remaining_cards, deal)\n",
    "            elif card_count == 5:\n",
    "                setattr(self, i, self.hands[i])\n",
    "                continue\n",
    "            else:\n",
    "                deal = np.random.choice(remaining_cards, size=5-card_count, replace=False)\n",
    "                # print(self.hands[i])\n",
    "                dealt_hand = np.vstack((self.hands[i], self.deck[deal]))\n",
    "                self.hands[i] = dealt_hand\n",
    "                remaining_cards = np.setdiff1d(remaining_cards, deal)\n",
    "            \n",
    "            #  set individual hand attributes\n",
    "            setattr(self, i, dealt_hand)"
   ]
  },
  {
   "cell_type": "code",
   "execution_count": 29,
   "metadata": {},
   "outputs": [],
   "source": [
    "stack_cards1 = np.array([[0, 135], [ 0, 140], [9, 0], [-9, 0], [0, -9]])"
   ]
  },
  {
   "cell_type": "code",
   "execution_count": 30,
   "metadata": {},
   "outputs": [
    {
     "data": {
      "text/plain": [
       "[array([[  0, 135],\n",
       "        [  0, 140],\n",
       "        [  9,   0],\n",
       "        [ -9,   0],\n",
       "        [  0,  -9]]),\n",
       " array([[  0, 100],\n",
       "        [  0, -13],\n",
       "        [  0, 110],\n",
       "        [  0,  90],\n",
       "        [ 11,   0]]),\n",
       " array([[ 14,   0],\n",
       "        [-13,   0],\n",
       "        [-14,   0],\n",
       "        [ 10,   0],\n",
       "        [ 12,   0]]),\n",
       " array([[  0, 130],\n",
       "        [  0, -12],\n",
       "        [ 13,   0],\n",
       "        [-11,   0],\n",
       "        [  0, -10]])]"
      ]
     },
     "execution_count": 30,
     "metadata": {},
     "output_type": "execute_result"
    }
   ],
   "source": [
    "game = Dealer(deck=full_euchre_deck ,players=4)\n",
    "game.stack_deck(stack_cards=stack_cards1, player=1)\n",
    "game.deal_cards()\n",
    "hands5 = [game.hand1, game.hand2, game.hand3, game.hand4]\n",
    "hands5\n",
    "\n",
    "\n",
    "# hands5 = [game.hand1, game.hand2, game.hand3, game.hand4]\n",
    "# v_hands = 5*[hands5]\n",
    "# first_play = [game.hand1[0], game.hand1[1], game.hand1[2], game.hand1[3], game.hand1[4]]"
   ]
  },
  {
   "cell_type": "code",
   "execution_count": 31,
   "metadata": {},
   "outputs": [
    {
     "name": "stdout",
     "output_type": "stream",
     "text": [
      "15\n",
      "238\n",
      "2603\n",
      "9386\n"
     ]
    },
    {
     "data": {
      "text/plain": [
       "0.09460899211591732"
      ]
     },
     "execution_count": 31,
     "metadata": {},
     "output_type": "execute_result"
    }
   ],
   "source": [
    "game_sim(dealt_hands=hands5)"
   ]
  }
 ],
 "metadata": {
  "kernelspec": {
   "display_name": "ff_env",
   "language": "python",
   "name": "python3"
  },
  "language_info": {
   "codemirror_mode": {
    "name": "ipython",
    "version": 3
   },
   "file_extension": ".py",
   "mimetype": "text/x-python",
   "name": "python",
   "nbconvert_exporter": "python",
   "pygments_lexer": "ipython3",
   "version": "3.11.3"
  }
 },
 "nbformat": 4,
 "nbformat_minor": 2
}
