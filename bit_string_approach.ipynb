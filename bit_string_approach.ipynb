{
 "cells": [
  {
   "cell_type": "code",
   "execution_count": 1,
   "metadata": {},
   "outputs": [],
   "source": [
    "from dataclasses import dataclass\n",
    "import numpy as np\n",
    "from deck import full_euchre_deck\n",
    "from play_round import PlayRound\n",
    "from branch_calc import (\n",
    "    filter_branch_by_hand,\n",
    "    setdiff2d_idx,\n",
    "    suit_id,\n",
    "    find_winner,\n",
    "    calc_all_possible_hands,\n",
    ")\n",
    "from dealer import Dealer"
   ]
  },
  {
   "cell_type": "code",
   "execution_count": 2,
   "metadata": {},
   "outputs": [
    {
     "data": {
      "text/plain": [
       "[array([[  12,    0],\n",
       "        [  14,    0],\n",
       "        [   0,  100],\n",
       "        [  10,    0],\n",
       "        [   0, -135]]),\n",
       " array([[  0,  90],\n",
       "        [  9,   0],\n",
       "        [  0, 130],\n",
       "        [-11,   0],\n",
       "        [ -9,   0]]),\n",
       " array([[ 13,   0],\n",
       "        [  0, -13],\n",
       "        [-13,   0],\n",
       "        [-10,   0],\n",
       "        [  0,  -9]]),\n",
       " array([[  0, 140],\n",
       "        [  0, -12],\n",
       "        [-14,   0],\n",
       "        [  0, 120],\n",
       "        [  0, -11]])]"
      ]
     },
     "execution_count": 2,
     "metadata": {},
     "output_type": "execute_result"
    }
   ],
   "source": [
    "game = Dealer(deck=full_euchre_deck ,players=4)\n",
    "game.deal_cards()\n",
    "hands5 = [game.hand1, game.hand2, game.hand3, game.hand4]\n",
    "hands5\n",
    "# first_play = [game.hand1[0], game.hand1[1], game.hand1[2], game.hand1[3], game.hand1[4]]"
   ]
  },
  {
   "cell_type": "code",
   "execution_count": 21,
   "metadata": {},
   "outputs": [],
   "source": [
    "score = []"
   ]
  },
  {
   "cell_type": "code",
   "execution_count": null,
   "metadata": {},
   "outputs": [
    {
     "name": "stdout",
     "output_type": "stream",
     "text": [
      "All possible trick played\n",
      "[1, 0, 0, 1, 0]\n"
     ]
    }
   ],
   "source": [
    "\n",
    "for i in range(125):\n",
    "    try:\n",
    "        round1 = PlayRound(hands=hands5, winner=0, card_play=0)\n",
    "        round1.play_round(bit=i)\n",
    "        score.append(round1.round_winning_team)\n",
    "    except IndexError :\n",
    "        print('All possible tricks played')\n",
    "        print(score)\n",
    "        break"
   ]
  }
 ],
 "metadata": {
  "kernelspec": {
   "display_name": "ff_env",
   "language": "python",
   "name": "python3"
  },
  "language_info": {
   "codemirror_mode": {
    "name": "ipython",
    "version": 3
   },
   "file_extension": ".py",
   "mimetype": "text/x-python",
   "name": "python",
   "nbconvert_exporter": "python",
   "pygments_lexer": "ipython3",
   "version": "3.11.3"
  }
 },
 "nbformat": 4,
 "nbformat_minor": 2
}
