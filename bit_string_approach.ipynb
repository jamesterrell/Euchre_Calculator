{
 "cells": [
  {
   "cell_type": "code",
   "execution_count": 1,
   "metadata": {},
   "outputs": [],
   "source": [
    "from dataclasses import dataclass\n",
    "import numpy as np\n",
    "from deck import full_euchre_deck\n",
    "from branch_calc import (\n",
    "    filter_branch_by_hand,\n",
    "    setdiff2d_idx,\n",
    "    suit_id,\n",
    "    find_winner,\n",
    "    calc_all_possible_hands,\n",
    ")\n",
    "from dealer import Dealer"
   ]
  },
  {
   "cell_type": "code",
   "execution_count": 2,
   "metadata": {},
   "outputs": [],
   "source": [
    "game = Dealer(deck=full_euchre_deck ,players=4)\n",
    "game.deal_cards()\n",
    "hands5 = [game.hand1, game.hand2, game.hand3, game.hand4]\n",
    "# first_play = [game.hand1[0], game.hand1[1], game.hand1[2], game.hand1[3], game.hand1[4]]"
   ]
  },
  {
   "cell_type": "code",
   "execution_count": 3,
   "metadata": {},
   "outputs": [],
   "source": [
    "@dataclass\n",
    "class PlayRound:\n",
    "    hands: list\n",
    "    winner: int\n",
    "\n",
    "    def play_round(self, bit: int):\n",
    "        all_possible_tricks = calc_all_possible_hands(hands=self.hands)\n",
    "        len(all_possible_tricks)\n",
    "        contains_target = np.any(\n",
    "            np.all(all_possible_tricks == self.hands[self.winner][bit], axis=-1), axis=1\n",
    "        )\n",
    "        stump = all_possible_tricks[contains_target]\n",
    "        stump = filter_branch_by_hand(stump, self.hands[(self.winner+1)%4], (self.winner+1)%4, self.hands[self.winner][bit])\n",
    "        stump = filter_branch_by_hand(stump, self.hands[(self.winner+2)%4], (self.winner+2)%4, self.hands[self.winner][bit])\n",
    "        stump = filter_branch_by_hand(stump, self.hands[(self.winner+3)%4], (self.winner+3)%4, self.hands[self.winner][bit])\n",
    "        self.round_winner = find_winner(\n",
    "            lead=stump[bit][self.winner], trick=stump[bit]\n",
    "        )  # will need to fix this in order to iterate through all hands\n",
    "        self.round_winning_team = (\n",
    "            find_winner(lead=stump[bit][self.winner], trick=stump[bit]) % 2\n",
    "        )  # will need to fix this in order to iterate through all hands\n",
    "        self.next_round_hands = [\n",
    "            setdiff2d_idx(self.hands[0], stump[bit]),\n",
    "            setdiff2d_idx(self.hands[1], stump[bit]),\n",
    "            setdiff2d_idx(self.hands[2], stump[bit]),\n",
    "            setdiff2d_idx(self.hands[3], stump[bit]),\n",
    "        ]\n",
    "\n",
    "        return (\n",
    "            stump[bit],\n",
    "            self.round_winner,\n",
    "            self.round_winning_team,\n",
    "            np.array(self.next_round_hands),\n",
    "        )\n"
   ]
  },
  {
   "cell_type": "code",
   "execution_count": 4,
   "metadata": {},
   "outputs": [
    {
     "data": {
      "text/plain": [
       "(array([[  0, -12],\n",
       "        [  0, 140],\n",
       "        [  0, -11],\n",
       "        [  0, -13]]),\n",
       " 1,\n",
       " 1,\n",
       " array([[[ -11,    0],\n",
       "         [ -13,    0],\n",
       "         [ -12,    0],\n",
       "         [   9,    0]],\n",
       " \n",
       "        [[   0,  130],\n",
       "         [   0, -135],\n",
       "         [  -9,    0],\n",
       "         [ -14,    0]],\n",
       " \n",
       "        [[  13,    0],\n",
       "         [  11,    0],\n",
       "         [ -10,    0],\n",
       "         [  10,    0]],\n",
       " \n",
       "        [[   0,  100],\n",
       "         [   0,   -9],\n",
       "         [   0,  110],\n",
       "         [  14,    0]]]))"
      ]
     },
     "execution_count": 4,
     "metadata": {},
     "output_type": "execute_result"
    }
   ],
   "source": [
    "round1 = PlayRound(hands=hands5, winner=0)\n",
    "round1.play_round(bit=0)"
   ]
  },
  {
   "cell_type": "code",
   "execution_count": 5,
   "metadata": {},
   "outputs": [
    {
     "data": {
      "text/plain": [
       "(array([[-11,   0],\n",
       "        [  0, 130],\n",
       "        [ 13,   0],\n",
       "        [  0, 100]]),\n",
       " 1,\n",
       " 1,\n",
       " array([[[ -13,    0],\n",
       "         [ -12,    0],\n",
       "         [   9,    0]],\n",
       " \n",
       "        [[   0, -135],\n",
       "         [  -9,    0],\n",
       "         [ -14,    0]],\n",
       " \n",
       "        [[  11,    0],\n",
       "         [ -10,    0],\n",
       "         [  10,    0]],\n",
       " \n",
       "        [[   0,   -9],\n",
       "         [   0,  110],\n",
       "         [  14,    0]]]))"
      ]
     },
     "execution_count": 5,
     "metadata": {},
     "output_type": "execute_result"
    }
   ],
   "source": [
    "round2 = PlayRound(hands=round1.next_round_hands, winner=round1.round_winner)\n",
    "round2.play_round(bit=0)"
   ]
  },
  {
   "cell_type": "code",
   "execution_count": 6,
   "metadata": {},
   "outputs": [
    {
     "ename": "NameError",
     "evalue": "name 'stop' is not defined",
     "output_type": "error",
     "traceback": [
      "\u001b[1;31m---------------------------------------------------------------------------\u001b[0m",
      "\u001b[1;31mNameError\u001b[0m                                 Traceback (most recent call last)",
      "Cell \u001b[1;32mIn[6], line 1\u001b[0m\n\u001b[1;32m----> 1\u001b[0m stop\n",
      "\u001b[1;31mNameError\u001b[0m: name 'stop' is not defined"
     ]
    }
   ],
   "source": [
    "stop"
   ]
  },
  {
   "cell_type": "code",
   "execution_count": null,
   "metadata": {},
   "outputs": [
    {
     "data": {
      "text/plain": [
       "array([], shape=(0, 4, 2), dtype=int32)"
      ]
     },
     "execution_count": 6,
     "metadata": {},
     "output_type": "execute_result"
    }
   ],
   "source": [
    "all_possible_tricks = calc_all_possible_hands(hands=round1.next_round_hands)\n",
    "contains_target = np.any(\n",
    "    np.all(all_possible_tricks == hands[2][0], axis=-1), axis=1\n",
    ")\n",
    "stump = all_possible_tricks[contains_target]\n",
    "stump = filter_branch_by_hand(stump, hands[(2+1)%4], 1, first_play[0])\n",
    "stump = filter_branch_by_hand(stump, hands[(2+2)%4], 2, first_play[0])\n",
    "stump = filter_branch_by_hand(stump, hands[(2+3)%4], 3, first_play[0])\n",
    "stump\n",
    "# round_winner = find_winner(\n",
    "#     lead=stump[0][2], trick=stump[0]\n",
    "#         )  # will need to fix this in order to iterate through all hands"
   ]
  },
  {
   "cell_type": "code",
   "execution_count": null,
   "metadata": {},
   "outputs": [
    {
     "data": {
      "text/plain": [
       "(array([[  0, 140],\n",
       "        [-12,   0],\n",
       "        [  0, 100],\n",
       "        [-11,   0]]),\n",
       " 0,\n",
       " 0,\n",
       " array([[[   0,  130],\n",
       "         [  13,    0],\n",
       "         [   0, -135],\n",
       "         [ -13,    0]],\n",
       " \n",
       "        [[   0,  -13],\n",
       "         [   0,  -12],\n",
       "         [  -9,    0],\n",
       "         [  11,    0]],\n",
       " \n",
       "        [[ -14,    0],\n",
       "         [   0,   -9],\n",
       "         [   0,   90],\n",
       "         [   0,  110]],\n",
       " \n",
       "        [[ -10,    0],\n",
       "         [  10,    0],\n",
       "         [  14,    0],\n",
       "         [   0,  -10]]]))"
      ]
     },
     "execution_count": 8,
     "metadata": {},
     "output_type": "execute_result"
    }
   ],
   "source": [
    "round2 = PlayRound(hands=round1.next_round_hands, winner=round1.round_winner)\n",
    "round2.play_round(bit=0)"
   ]
  },
  {
   "cell_type": "code",
   "execution_count": null,
   "metadata": {},
   "outputs": [],
   "source": [
    "all_possible_tricks = calc_all_possible_hands(hands=hands)\n",
    "len(all_possible_tricks)\n",
    "contains_target = np.any(np.all(all_possible_tricks == first_play[0], axis=-1), axis=1)\n",
    "stump = all_possible_tricks[contains_target]\n",
    "stump = filter_branch_by_hand(stump , game.hand2, 1, first_play[0])\n",
    "stump = filter_branch_by_hand(stump, game.hand3, 2, first_play[0])\n",
    "stump = filter_branch_by_hand(stump, game.hand4, 3, first_play[0])\n",
    " \n"
   ]
  },
  {
   "cell_type": "code",
   "execution_count": null,
   "metadata": {},
   "outputs": [],
   "source": [
    "winner = find_winner(lead=stump[0][0], trick=stump[0]) \n",
    "winning_team = find_winner(lead=stump[0][0], trick=stump[0]) % 2"
   ]
  },
  {
   "cell_type": "code",
   "execution_count": null,
   "metadata": {},
   "outputs": [
    {
     "data": {
      "text/plain": [
       "(75,\n",
       " array([[  0, 130],\n",
       "        [  0, -13],\n",
       "        [  0,  90],\n",
       "        [-10,   0]]))"
      ]
     },
     "execution_count": 11,
     "metadata": {},
     "output_type": "execute_result"
    }
   ],
   "source": [
    "len(stump), stump[0]"
   ]
  },
  {
   "cell_type": "code",
   "execution_count": null,
   "metadata": {},
   "outputs": [
    {
     "data": {
      "text/plain": [
       "(0, 0)"
      ]
     },
     "execution_count": 12,
     "metadata": {},
     "output_type": "execute_result"
    }
   ],
   "source": [
    "\n",
    "winner, winning_team"
   ]
  },
  {
   "cell_type": "code",
   "execution_count": null,
   "metadata": {},
   "outputs": [],
   "source": [
    "# this is maybe how we can solve for recursion\n",
    "game.hand1 = setdiff2d_idx(game.hand1, stump[0])"
   ]
  },
  {
   "cell_type": "code",
   "execution_count": null,
   "metadata": {},
   "outputs": [
    {
     "data": {
      "text/plain": [
       "array([[   0,  140],\n",
       "       [  13,    0],\n",
       "       [   0, -135],\n",
       "       [ -13,    0]])"
      ]
     },
     "execution_count": 14,
     "metadata": {},
     "output_type": "execute_result"
    }
   ],
   "source": [
    "game.hand1"
   ]
  },
  {
   "cell_type": "code",
   "execution_count": null,
   "metadata": {},
   "outputs": [
    {
     "data": {
      "text/plain": [
       "(256,\n",
       " [array([[   0,  140],\n",
       "         [  13,    0],\n",
       "         [   0, -135],\n",
       "         [ -13,    0]]),\n",
       "  array([[-12,   0],\n",
       "         [  0, -12],\n",
       "         [ -9,   0],\n",
       "         [ 11,   0]]),\n",
       "  array([[-14,   0],\n",
       "         [  0,  -9],\n",
       "         [  0, 100],\n",
       "         [  0, 110]]),\n",
       "  array([[-11,   0],\n",
       "         [ 10,   0],\n",
       "         [ 14,   0],\n",
       "         [  0, -10]])])"
      ]
     },
     "execution_count": 15,
     "metadata": {},
     "output_type": "execute_result"
    }
   ],
   "source": [
    "rd2_hands = [setdiff2d_idx(game.hand1, stump[0]),\n",
    "setdiff2d_idx(game.hand2, stump[0]),\n",
    "setdiff2d_idx(game.hand3, stump[0]),\n",
    "setdiff2d_idx(game.hand4, stump[0])]\n",
    "all_possible_tricks = calc_all_possible_hands(hands=rd2_hands)\n",
    "len(all_possible_tricks), rd2_hands"
   ]
  },
  {
   "cell_type": "code",
   "execution_count": null,
   "metadata": {},
   "outputs": [
    {
     "data": {
      "text/plain": [
       "32"
      ]
     },
     "execution_count": 16,
     "metadata": {},
     "output_type": "execute_result"
    }
   ],
   "source": [
    "rd2_contains_target = np.any(np.all(all_possible_tricks == rd2_hands[winner][0], axis=-1), axis=1)\n",
    "rd2_stump = all_possible_tricks[rd2_contains_target]\n",
    "\n",
    "rd2_stump = filter_branch_by_hand(rd2_stump , rd2_hands[(winner+1)%4], (winner+1)%4, rd2_hands[winner][0])\n",
    "rd2_stump = filter_branch_by_hand(rd2_stump, rd2_hands[(winner+2)%4], (winner+2)%4, rd2_hands[winner][0])\n",
    "rd2_stump = filter_branch_by_hand(rd2_stump, rd2_hands[(winner+3)%4], (winner+3)%4, rd2_hands[winner][0])\n",
    "len(rd2_stump)"
   ]
  },
  {
   "cell_type": "code",
   "execution_count": null,
   "metadata": {},
   "outputs": [
    {
     "data": {
      "text/plain": [
       "array([[[  0, 140],\n",
       "        [-12,   0],\n",
       "        [  0, 100],\n",
       "        [-11,   0]],\n",
       "\n",
       "       [[  0, 140],\n",
       "        [-12,   0],\n",
       "        [  0, 100],\n",
       "        [ 10,   0]],\n",
       "\n",
       "       [[  0, 140],\n",
       "        [-12,   0],\n",
       "        [  0, 100],\n",
       "        [ 14,   0]],\n",
       "\n",
       "       [[  0, 140],\n",
       "        [-12,   0],\n",
       "        [  0, 100],\n",
       "        [  0, -10]],\n",
       "\n",
       "       [[  0, 140],\n",
       "        [-12,   0],\n",
       "        [  0, 110],\n",
       "        [-11,   0]],\n",
       "\n",
       "       [[  0, 140],\n",
       "        [-12,   0],\n",
       "        [  0, 110],\n",
       "        [ 10,   0]],\n",
       "\n",
       "       [[  0, 140],\n",
       "        [-12,   0],\n",
       "        [  0, 110],\n",
       "        [ 14,   0]],\n",
       "\n",
       "       [[  0, 140],\n",
       "        [-12,   0],\n",
       "        [  0, 110],\n",
       "        [  0, -10]],\n",
       "\n",
       "       [[  0, 140],\n",
       "        [  0, -12],\n",
       "        [  0, 100],\n",
       "        [-11,   0]],\n",
       "\n",
       "       [[  0, 140],\n",
       "        [  0, -12],\n",
       "        [  0, 100],\n",
       "        [ 10,   0]],\n",
       "\n",
       "       [[  0, 140],\n",
       "        [  0, -12],\n",
       "        [  0, 100],\n",
       "        [ 14,   0]],\n",
       "\n",
       "       [[  0, 140],\n",
       "        [  0, -12],\n",
       "        [  0, 100],\n",
       "        [  0, -10]],\n",
       "\n",
       "       [[  0, 140],\n",
       "        [  0, -12],\n",
       "        [  0, 110],\n",
       "        [-11,   0]],\n",
       "\n",
       "       [[  0, 140],\n",
       "        [  0, -12],\n",
       "        [  0, 110],\n",
       "        [ 10,   0]],\n",
       "\n",
       "       [[  0, 140],\n",
       "        [  0, -12],\n",
       "        [  0, 110],\n",
       "        [ 14,   0]],\n",
       "\n",
       "       [[  0, 140],\n",
       "        [  0, -12],\n",
       "        [  0, 110],\n",
       "        [  0, -10]],\n",
       "\n",
       "       [[  0, 140],\n",
       "        [ -9,   0],\n",
       "        [  0, 100],\n",
       "        [-11,   0]],\n",
       "\n",
       "       [[  0, 140],\n",
       "        [ -9,   0],\n",
       "        [  0, 100],\n",
       "        [ 10,   0]],\n",
       "\n",
       "       [[  0, 140],\n",
       "        [ -9,   0],\n",
       "        [  0, 100],\n",
       "        [ 14,   0]],\n",
       "\n",
       "       [[  0, 140],\n",
       "        [ -9,   0],\n",
       "        [  0, 100],\n",
       "        [  0, -10]],\n",
       "\n",
       "       [[  0, 140],\n",
       "        [ -9,   0],\n",
       "        [  0, 110],\n",
       "        [-11,   0]],\n",
       "\n",
       "       [[  0, 140],\n",
       "        [ -9,   0],\n",
       "        [  0, 110],\n",
       "        [ 10,   0]],\n",
       "\n",
       "       [[  0, 140],\n",
       "        [ -9,   0],\n",
       "        [  0, 110],\n",
       "        [ 14,   0]],\n",
       "\n",
       "       [[  0, 140],\n",
       "        [ -9,   0],\n",
       "        [  0, 110],\n",
       "        [  0, -10]],\n",
       "\n",
       "       [[  0, 140],\n",
       "        [ 11,   0],\n",
       "        [  0, 100],\n",
       "        [-11,   0]],\n",
       "\n",
       "       [[  0, 140],\n",
       "        [ 11,   0],\n",
       "        [  0, 100],\n",
       "        [ 10,   0]],\n",
       "\n",
       "       [[  0, 140],\n",
       "        [ 11,   0],\n",
       "        [  0, 100],\n",
       "        [ 14,   0]],\n",
       "\n",
       "       [[  0, 140],\n",
       "        [ 11,   0],\n",
       "        [  0, 100],\n",
       "        [  0, -10]],\n",
       "\n",
       "       [[  0, 140],\n",
       "        [ 11,   0],\n",
       "        [  0, 110],\n",
       "        [-11,   0]],\n",
       "\n",
       "       [[  0, 140],\n",
       "        [ 11,   0],\n",
       "        [  0, 110],\n",
       "        [ 10,   0]],\n",
       "\n",
       "       [[  0, 140],\n",
       "        [ 11,   0],\n",
       "        [  0, 110],\n",
       "        [ 14,   0]],\n",
       "\n",
       "       [[  0, 140],\n",
       "        [ 11,   0],\n",
       "        [  0, 110],\n",
       "        [  0, -10]]])"
      ]
     },
     "execution_count": 17,
     "metadata": {},
     "output_type": "execute_result"
    }
   ],
   "source": [
    "rd2_stump"
   ]
  },
  {
   "cell_type": "code",
   "execution_count": null,
   "metadata": {},
   "outputs": [
    {
     "data": {
      "text/plain": [
       "(0,\n",
       " 0,\n",
       " array([[  0, 140],\n",
       "        [-12,   0],\n",
       "        [  0, 100],\n",
       "        [-11,   0]]))"
      ]
     },
     "execution_count": 18,
     "metadata": {},
     "output_type": "execute_result"
    }
   ],
   "source": [
    "winner = find_winner(lead=rd2_hands[winner][0], trick=rd2_stump[0]) \n",
    "winning_team = find_winner(lead=rd2_hands[winner][0], trick=rd2_stump[0]) % 2\n",
    "winner, winning_team, rd2_stump[0]"
   ]
  },
  {
   "cell_type": "code",
   "execution_count": null,
   "metadata": {},
   "outputs": [
    {
     "data": {
      "text/plain": [
       "81"
      ]
     },
     "execution_count": 19,
     "metadata": {},
     "output_type": "execute_result"
    }
   ],
   "source": [
    "rd3_hands = [setdiff2d_idx(rd2_hands[0], rd2_stump[0]),\n",
    "setdiff2d_idx(rd2_hands[1], rd2_stump[0]),\n",
    "setdiff2d_idx(rd2_hands[2], rd2_stump[0]),\n",
    "setdiff2d_idx(rd2_hands[3], rd2_stump[0])]\n",
    "all_possible_tricks = calc_all_possible_hands(hands=rd3_hands)\n",
    "len(all_possible_tricks)"
   ]
  },
  {
   "cell_type": "code",
   "execution_count": null,
   "metadata": {},
   "outputs": [
    {
     "data": {
      "text/plain": [
       "[array([[  13,    0],\n",
       "        [   0, -135],\n",
       "        [ -13,    0]]),\n",
       " array([[  0, -12],\n",
       "        [ -9,   0],\n",
       "        [ 11,   0]]),\n",
       " array([[-14,   0],\n",
       "        [  0,  -9],\n",
       "        [  0, 110]]),\n",
       " array([[ 10,   0],\n",
       "        [ 14,   0],\n",
       "        [  0, -10]])]"
      ]
     },
     "execution_count": 20,
     "metadata": {},
     "output_type": "execute_result"
    }
   ],
   "source": [
    "rd3_hands"
   ]
  },
  {
   "cell_type": "code",
   "execution_count": null,
   "metadata": {},
   "outputs": [
    {
     "data": {
      "text/plain": [
       "array([13,  0])"
      ]
     },
     "execution_count": 21,
     "metadata": {},
     "output_type": "execute_result"
    }
   ],
   "source": [
    "rd3_hands[winner][0]"
   ]
  },
  {
   "cell_type": "code",
   "execution_count": null,
   "metadata": {},
   "outputs": [
    {
     "data": {
      "text/plain": [
       "6"
      ]
     },
     "execution_count": 22,
     "metadata": {},
     "output_type": "execute_result"
    }
   ],
   "source": [
    "rd3_contains_target = np.any(np.all(all_possible_tricks == rd3_hands[winner][0], axis=-1), axis=1)\n",
    "rd3_stump = all_possible_tricks[rd3_contains_target]\n",
    "\n",
    "rd3_stump = filter_branch_by_hand(rd3_stump , rd3_hands[(winner+1)%4], (winner+1)%4, rd3_stump[winner][0])\n",
    "rd3_stump = filter_branch_by_hand(rd3_stump, rd3_hands[(winner+2)%4], (winner+2)%4, rd3_stump[winner][0])\n",
    "rd3_stump = filter_branch_by_hand(rd3_stump, rd3_hands[(winner+3)%4], (winner+3)%4, rd3_stump[winner][0])\n",
    "len(rd3_stump)"
   ]
  },
  {
   "cell_type": "code",
   "execution_count": null,
   "metadata": {},
   "outputs": [
    {
     "data": {
      "text/plain": [
       "(0,\n",
       " 0,\n",
       " array([[ 13,   0],\n",
       "        [ 11,   0],\n",
       "        [-14,   0],\n",
       "        [ 10,   0]]))"
      ]
     },
     "execution_count": 23,
     "metadata": {},
     "output_type": "execute_result"
    }
   ],
   "source": [
    "winner = find_winner(lead=rd3_hands[winner][0], trick=rd3_stump[0]) \n",
    "winning_team = find_winner(lead=rd3_hands[winner][0], trick=rd3_stump[0])  % 2\n",
    "winner, winning_team, rd3_stump[0]"
   ]
  },
  {
   "cell_type": "code",
   "execution_count": null,
   "metadata": {},
   "outputs": [
    {
     "data": {
      "text/plain": [
       "16"
      ]
     },
     "execution_count": 24,
     "metadata": {},
     "output_type": "execute_result"
    }
   ],
   "source": [
    "rd4_hands = [setdiff2d_idx(rd3_hands[0], rd3_stump[0]),\n",
    "setdiff2d_idx(rd3_hands[1], rd3_stump[0]),\n",
    "setdiff2d_idx(rd3_hands[2], rd3_stump[0]),\n",
    "setdiff2d_idx(rd3_hands[3], rd3_stump[0])]\n",
    "all_possible_tricks = calc_all_possible_hands(hands=rd4_hands)\n",
    "len(all_possible_tricks)"
   ]
  },
  {
   "cell_type": "code",
   "execution_count": null,
   "metadata": {},
   "outputs": [
    {
     "data": {
      "text/plain": [
       "[array([[   0, -135],\n",
       "        [ -13,    0]]),\n",
       " array([[  0, -12],\n",
       "        [ -9,   0]]),\n",
       " array([[  0,  -9],\n",
       "        [  0, 110]]),\n",
       " array([[ 14,   0],\n",
       "        [  0, -10]])]"
      ]
     },
     "execution_count": 25,
     "metadata": {},
     "output_type": "execute_result"
    }
   ],
   "source": [
    "rd4_hands"
   ]
  },
  {
   "cell_type": "code",
   "execution_count": null,
   "metadata": {},
   "outputs": [
    {
     "data": {
      "text/plain": [
       "4"
      ]
     },
     "execution_count": 26,
     "metadata": {},
     "output_type": "execute_result"
    }
   ],
   "source": [
    "rd4_contains_target = np.any(np.all(all_possible_tricks == rd4_hands[winner][0], axis=-1), axis=1)\n",
    "rd4_stump = all_possible_tricks[rd4_contains_target]\n",
    "\n",
    "rd4_stump = filter_branch_by_hand(rd4_stump , rd4_hands[(winner+1)%4], (winner+1)%4, rd4_stump[winner][0])\n",
    "rd4_stump = filter_branch_by_hand(rd4_stump, rd4_hands[(winner+2)%4], (winner+2)%4, rd4_stump[winner][0])\n",
    "rd4_stump = filter_branch_by_hand(rd4_stump, rd4_hands[(winner+3)%4], (winner+3)%4, rd4_stump[winner][0])\n",
    "len(rd4_stump)"
   ]
  },
  {
   "cell_type": "code",
   "execution_count": null,
   "metadata": {},
   "outputs": [
    {
     "data": {
      "text/plain": [
       "(0,\n",
       " 0,\n",
       " array([[   0, -135],\n",
       "        [   0,  -12],\n",
       "        [   0,  110],\n",
       "        [  14,    0]]))"
      ]
     },
     "execution_count": 27,
     "metadata": {},
     "output_type": "execute_result"
    }
   ],
   "source": [
    "winner = find_winner(lead=rd4_hands[winner][0], trick=rd4_stump[0]) \n",
    "winning_team = find_winner(lead=rd4_hands[winner][0], trick=rd4_stump[0])  % 2\n",
    "winner, winning_team, rd4_stump[0]"
   ]
  },
  {
   "cell_type": "code",
   "execution_count": null,
   "metadata": {},
   "outputs": [
    {
     "data": {
      "text/plain": [
       "1"
      ]
     },
     "execution_count": 28,
     "metadata": {},
     "output_type": "execute_result"
    }
   ],
   "source": [
    "rd5_hands = [setdiff2d_idx(rd4_hands[0], rd4_stump[0]),\n",
    "setdiff2d_idx(rd4_hands[1], rd4_stump[0]),\n",
    "setdiff2d_idx(rd4_hands[2], rd4_stump[0]),\n",
    "setdiff2d_idx(rd4_hands[3], rd4_stump[0])]\n",
    "all_possible_tricks = calc_all_possible_hands(hands=rd5_hands)\n",
    "len(all_possible_tricks)"
   ]
  },
  {
   "cell_type": "code",
   "execution_count": null,
   "metadata": {},
   "outputs": [
    {
     "data": {
      "text/plain": [
       "[array([[-13,   0]]),\n",
       " array([[-9,  0]]),\n",
       " array([[ 0, -9]]),\n",
       " array([[  0, -10]])]"
      ]
     },
     "execution_count": 29,
     "metadata": {},
     "output_type": "execute_result"
    }
   ],
   "source": [
    "rd5_hands"
   ]
  },
  {
   "cell_type": "code",
   "execution_count": null,
   "metadata": {},
   "outputs": [
    {
     "ename": "IndexError",
     "evalue": "index 1 is out of bounds for axis 0 with size 1",
     "output_type": "error",
     "traceback": [
      "\u001b[1;31m---------------------------------------------------------------------------\u001b[0m",
      "\u001b[1;31mIndexError\u001b[0m                                Traceback (most recent call last)",
      "Cell \u001b[1;32mIn[30], line 1\u001b[0m\n\u001b[1;32m----> 1\u001b[0m winner \u001b[38;5;241m=\u001b[39m find_winner(lead\u001b[38;5;241m=\u001b[39mrd5_hands[winner], trick\u001b[38;5;241m=\u001b[39mrd5_hands) \n\u001b[0;32m      2\u001b[0m winning_team \u001b[38;5;241m=\u001b[39m find_winner(lead\u001b[38;5;241m=\u001b[39mrd5_hands[winner], trick\u001b[38;5;241m=\u001b[39mrd5_hands)  \u001b[38;5;241m%\u001b[39m \u001b[38;5;241m2\u001b[39m\n\u001b[0;32m      3\u001b[0m winner, winning_team, rd5_hands\n",
      "File \u001b[1;32mc:\\Users\\012356.CORPORATE\\Euchre\\branch_calc.py:45\u001b[0m, in \u001b[0;36mfind_winner\u001b[1;34m(lead, trick)\u001b[0m\n\u001b[0;32m     43\u001b[0m     \u001b[38;5;28;01mreturn\u001b[39;00m np\u001b[38;5;241m.\u001b[39margmax([np\u001b[38;5;241m.\u001b[39mlinalg\u001b[38;5;241m.\u001b[39mnorm(card) \u001b[38;5;28;01mfor\u001b[39;00m card \u001b[38;5;129;01min\u001b[39;00m trick])\n\u001b[0;32m     44\u001b[0m \u001b[38;5;28;01melse\u001b[39;00m:\n\u001b[1;32m---> 45\u001b[0m     matching_suits \u001b[38;5;241m=\u001b[39m [card \u001b[38;5;28;01mfor\u001b[39;00m card \u001b[38;5;129;01min\u001b[39;00m trick \u001b[38;5;28;01mif\u001b[39;00m suit_id(card) \u001b[38;5;241m==\u001b[39m suit_id(lead)]\n\u001b[0;32m     46\u001b[0m     winning_card \u001b[38;5;241m=\u001b[39m \u001b[38;5;28mmax\u001b[39m(matching_suits, key\u001b[38;5;241m=\u001b[39mnp\u001b[38;5;241m.\u001b[39mlinalg\u001b[38;5;241m.\u001b[39mnorm)\n\u001b[0;32m     47\u001b[0m     winning_card_index \u001b[38;5;241m=\u001b[39m np\u001b[38;5;241m.\u001b[39mwhere((trick \u001b[38;5;241m==\u001b[39m winning_card)\u001b[38;5;241m.\u001b[39mall(axis\u001b[38;5;241m=\u001b[39m\u001b[38;5;241m1\u001b[39m))[\u001b[38;5;241m0\u001b[39m][\u001b[38;5;241m0\u001b[39m]\n",
      "File \u001b[1;32mc:\\Users\\012356.CORPORATE\\Euchre\\branch_calc.py:45\u001b[0m, in \u001b[0;36m<listcomp>\u001b[1;34m(.0)\u001b[0m\n\u001b[0;32m     43\u001b[0m     \u001b[38;5;28;01mreturn\u001b[39;00m np\u001b[38;5;241m.\u001b[39margmax([np\u001b[38;5;241m.\u001b[39mlinalg\u001b[38;5;241m.\u001b[39mnorm(card) \u001b[38;5;28;01mfor\u001b[39;00m card \u001b[38;5;129;01min\u001b[39;00m trick])\n\u001b[0;32m     44\u001b[0m \u001b[38;5;28;01melse\u001b[39;00m:\n\u001b[1;32m---> 45\u001b[0m     matching_suits \u001b[38;5;241m=\u001b[39m [card \u001b[38;5;28;01mfor\u001b[39;00m card \u001b[38;5;129;01min\u001b[39;00m trick \u001b[38;5;28;01mif\u001b[39;00m suit_id(card) \u001b[38;5;241m==\u001b[39m suit_id(lead)]\n\u001b[0;32m     46\u001b[0m     winning_card \u001b[38;5;241m=\u001b[39m \u001b[38;5;28mmax\u001b[39m(matching_suits, key\u001b[38;5;241m=\u001b[39mnp\u001b[38;5;241m.\u001b[39mlinalg\u001b[38;5;241m.\u001b[39mnorm)\n\u001b[0;32m     47\u001b[0m     winning_card_index \u001b[38;5;241m=\u001b[39m np\u001b[38;5;241m.\u001b[39mwhere((trick \u001b[38;5;241m==\u001b[39m winning_card)\u001b[38;5;241m.\u001b[39mall(axis\u001b[38;5;241m=\u001b[39m\u001b[38;5;241m1\u001b[39m))[\u001b[38;5;241m0\u001b[39m][\u001b[38;5;241m0\u001b[39m]\n",
      "File \u001b[1;32mc:\\Users\\012356.CORPORATE\\Euchre\\branch_calc.py:39\u001b[0m, in \u001b[0;36msuit_id\u001b[1;34m(arr)\u001b[0m\n\u001b[0;32m     38\u001b[0m \u001b[38;5;28;01mdef\u001b[39;00m \u001b[38;5;21msuit_id\u001b[39m(arr):\n\u001b[1;32m---> 39\u001b[0m     \u001b[38;5;28;01mreturn\u001b[39;00m np\u001b[38;5;241m.\u001b[39marctan2(arr[\u001b[38;5;241m1\u001b[39m], arr[\u001b[38;5;241m0\u001b[39m])\n",
      "\u001b[1;31mIndexError\u001b[0m: index 1 is out of bounds for axis 0 with size 1"
     ]
    }
   ],
   "source": [
    "winner = find_winner(lead=rd5_hands[winner], trick=rd5_hands) \n",
    "winning_team = find_winner(lead=rd5_hands[winner], trick=rd5_hands)  % 2\n",
    "winner, winning_team, rd5_hands"
   ]
  }
 ],
 "metadata": {
  "kernelspec": {
   "display_name": "ff_env",
   "language": "python",
   "name": "python3"
  },
  "language_info": {
   "codemirror_mode": {
    "name": "ipython",
    "version": 3
   },
   "file_extension": ".py",
   "mimetype": "text/x-python",
   "name": "python",
   "nbconvert_exporter": "python",
   "pygments_lexer": "ipython3",
   "version": "3.11.3"
  }
 },
 "nbformat": 4,
 "nbformat_minor": 2
}
