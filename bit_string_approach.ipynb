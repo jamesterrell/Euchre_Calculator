{
 "cells": [
  {
   "cell_type": "code",
   "execution_count": 1,
   "metadata": {},
   "outputs": [],
   "source": [
    "from dataclasses import dataclass\n",
    "import numpy as np\n",
    "from deck import full_euchre_deck\n",
    "from play_round import PlayRound\n",
    "from branch_calc import (\n",
    "    filter_branch_by_hand,\n",
    "    setdiff2d_idx,\n",
    "    suit_id,\n",
    "    find_winner,\n",
    "    calc_all_possible_hands,\n",
    ")\n",
    "from dealer import Dealer"
   ]
  },
  {
   "cell_type": "code",
   "execution_count": 2,
   "metadata": {},
   "outputs": [
    {
     "data": {
      "text/plain": [
       "[array([[  0,  -9],\n",
       "        [-14,   0],\n",
       "        [ 12,   0],\n",
       "        [ -9,   0],\n",
       "        [ 11,   0]]),\n",
       " array([[-11,   0],\n",
       "        [  0, -11],\n",
       "        [  0, -10],\n",
       "        [  0, 130],\n",
       "        [  0, -12]]),\n",
       " array([[  0, -13],\n",
       "        [ 10,   0],\n",
       "        [-12,   0],\n",
       "        [ 13,   0],\n",
       "        [  0, 100]]),\n",
       " array([[   0,  120],\n",
       "        [ -13,    0],\n",
       "        [   0, -135],\n",
       "        [  14,    0],\n",
       "        [   0,   90]])]"
      ]
     },
     "execution_count": 2,
     "metadata": {},
     "output_type": "execute_result"
    }
   ],
   "source": [
    "game = Dealer(deck=full_euchre_deck ,players=4)\n",
    "game.deal_cards()\n",
    "hands5 = [game.hand1, game.hand2, game.hand3, game.hand4]\n",
    "hands5\n",
    "# first_play = [game.hand1[0], game.hand1[1], game.hand1[2], game.hand1[3], game.hand1[4]]"
   ]
  },
  {
   "cell_type": "code",
   "execution_count": 3,
   "metadata": {},
   "outputs": [],
   "source": [
    "# @dataclass\n",
    "# class PlayRound:\n",
    "#     hands: list\n",
    "#     winner: int\n",
    "\n",
    "#     def play_round(self, bit: int):\n",
    "#         all_possible_tricks = calc_all_possible_hands(hands=self.hands)\n",
    "#         len(all_possible_tricks)\n",
    "#         contains_target = np.any(\n",
    "#             np.all(all_possible_tricks == self.hands[self.winner][bit], axis=-1), axis=1\n",
    "#         )\n",
    "#         stump = all_possible_tricks[contains_target]\n",
    "#         stump = filter_branch_by_hand(stump, self.hands[(self.winner+1)%4], (self.winner+1)%4, self.hands[self.winner][bit])\n",
    "#         stump = filter_branch_by_hand(stump, self.hands[(self.winner+2)%4], (self.winner+2)%4, self.hands[self.winner][bit])\n",
    "#         stump = filter_branch_by_hand(stump, self.hands[(self.winner+3)%4], (self.winner+3)%4, self.hands[self.winner][bit])\n",
    "#         self.round_winner = find_winner(\n",
    "#             lead=stump[bit][self.winner], trick=stump[bit]\n",
    "#         )  # will need to fix this in order to iterate through all hands\n",
    "#         self.round_winning_team = (\n",
    "#             find_winner(lead=stump[bit][self.winner], trick=stump[bit]) % 2\n",
    "#         )  # will need to fix this in order to iterate through all hands\n",
    "#         self.next_round_hands = [\n",
    "#             setdiff2d_idx(self.hands[0], stump[bit]),\n",
    "#             setdiff2d_idx(self.hands[1], stump[bit]),\n",
    "#             setdiff2d_idx(self.hands[2], stump[bit]),\n",
    "#             setdiff2d_idx(self.hands[3], stump[bit]),\n",
    "#         ]\n",
    "\n",
    "#         return (\n",
    "#             stump[bit],\n",
    "#             self.round_winner,\n",
    "#             self.round_winning_team,\n",
    "#             np.array(self.next_round_hands),\n",
    "#         )\n"
   ]
  },
  {
   "cell_type": "code",
   "execution_count": 4,
   "metadata": {},
   "outputs": [
    {
     "data": {
      "text/plain": [
       "(array([[  0,  -9],\n",
       "        [  0, -11],\n",
       "        [  0, -13],\n",
       "        [  0, 120]]),\n",
       " 3,\n",
       " 1,\n",
       " array([[[ -14,    0],\n",
       "         [  12,    0],\n",
       "         [  -9,    0],\n",
       "         [  11,    0]],\n",
       " \n",
       "        [[ -11,    0],\n",
       "         [   0,  -10],\n",
       "         [   0,  130],\n",
       "         [   0,  -12]],\n",
       " \n",
       "        [[  10,    0],\n",
       "         [ -12,    0],\n",
       "         [  13,    0],\n",
       "         [   0,  100]],\n",
       " \n",
       "        [[ -13,    0],\n",
       "         [   0, -135],\n",
       "         [  14,    0],\n",
       "         [   0,   90]]]))"
      ]
     },
     "execution_count": 4,
     "metadata": {},
     "output_type": "execute_result"
    }
   ],
   "source": [
    "round1 = PlayRound(hands=hands5, winner=0)\n",
    "round1.play_round(bit=0)"
   ]
  },
  {
   "cell_type": "code",
   "execution_count": 5,
   "metadata": {},
   "outputs": [
    {
     "data": {
      "text/plain": [
       "(array([[-14,   0],\n",
       "        [-11,   0],\n",
       "        [-12,   0],\n",
       "        [-13,   0]]),\n",
       " 0,\n",
       " 0,\n",
       " array([[[  12,    0],\n",
       "         [  -9,    0],\n",
       "         [  11,    0]],\n",
       " \n",
       "        [[   0,  -10],\n",
       "         [   0,  130],\n",
       "         [   0,  -12]],\n",
       " \n",
       "        [[  10,    0],\n",
       "         [  13,    0],\n",
       "         [   0,  100]],\n",
       " \n",
       "        [[   0, -135],\n",
       "         [  14,    0],\n",
       "         [   0,   90]]]))"
      ]
     },
     "execution_count": 5,
     "metadata": {},
     "output_type": "execute_result"
    }
   ],
   "source": [
    "round2 = PlayRound(hands=round1.next_round_hands, winner=round1.round_winner)\n",
    "round2.play_round(bit=0)"
   ]
  },
  {
   "cell_type": "code",
   "execution_count": 6,
   "metadata": {},
   "outputs": [
    {
     "data": {
      "text/plain": [
       "(array([[ 12,   0],\n",
       "        [  0, -10],\n",
       "        [ 10,   0],\n",
       "        [ 14,   0]]),\n",
       " 3,\n",
       " 1,\n",
       " array([[[  -9,    0],\n",
       "         [  11,    0]],\n",
       " \n",
       "        [[   0,  130],\n",
       "         [   0,  -12]],\n",
       " \n",
       "        [[  13,    0],\n",
       "         [   0,  100]],\n",
       " \n",
       "        [[   0, -135],\n",
       "         [   0,   90]]]))"
      ]
     },
     "execution_count": 6,
     "metadata": {},
     "output_type": "execute_result"
    }
   ],
   "source": [
    "round3 = PlayRound(hands=round2.next_round_hands, winner=round2.round_winner)\n",
    "round3.play_round(bit=0)"
   ]
  },
  {
   "cell_type": "code",
   "execution_count": 7,
   "metadata": {},
   "outputs": [
    {
     "data": {
      "text/plain": [
       "(array([[  -9,    0],\n",
       "        [   0,  130],\n",
       "        [   0,  100],\n",
       "        [   0, -135]]),\n",
       " 3,\n",
       " 1,\n",
       " array([[[ 11,   0]],\n",
       " \n",
       "        [[  0, -12]],\n",
       " \n",
       "        [[ 13,   0]],\n",
       " \n",
       "        [[  0,  90]]]))"
      ]
     },
     "execution_count": 7,
     "metadata": {},
     "output_type": "execute_result"
    }
   ],
   "source": [
    "round4 = PlayRound(hands=round3.next_round_hands, winner=round3.round_winner)\n",
    "round4.play_round(bit=0)"
   ]
  },
  {
   "cell_type": "code",
   "execution_count": 8,
   "metadata": {},
   "outputs": [
    {
     "data": {
      "text/plain": [
       "(array([[ 11,   0],\n",
       "        [  0, -12],\n",
       "        [ 13,   0],\n",
       "        [  0,  90]]),\n",
       " 3,\n",
       " 1,\n",
       " array([], shape=(4, 0, 2), dtype=int32))"
      ]
     },
     "execution_count": 8,
     "metadata": {},
     "output_type": "execute_result"
    }
   ],
   "source": [
    "round5 = PlayRound(hands=round4.next_round_hands, winner=round4.round_winner)\n",
    "round5.play_round(bit=0)"
   ]
  }
 ],
 "metadata": {
  "kernelspec": {
   "display_name": "ff_env",
   "language": "python",
   "name": "python3"
  },
  "language_info": {
   "codemirror_mode": {
    "name": "ipython",
    "version": 3
   },
   "file_extension": ".py",
   "mimetype": "text/x-python",
   "name": "python",
   "nbconvert_exporter": "python",
   "pygments_lexer": "ipython3",
   "version": "3.11.3"
  }
 },
 "nbformat": 4,
 "nbformat_minor": 2
}
