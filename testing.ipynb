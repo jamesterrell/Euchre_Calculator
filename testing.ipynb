{
 "cells": [
  {
   "cell_type": "code",
   "execution_count": 1,
   "metadata": {},
   "outputs": [],
   "source": [
    "import numpy as np\n",
    "from deck import full_euchre_deck\n",
    "from branch_calc import (\n",
    "    filter_branch_by_hand,\n",
    "    setdiff2d_idx,\n",
    "    suit_id,\n",
    "    find_winner,\n",
    "    calc_all_possible_hands,\n",
    ")\n",
    "from dealer import dealer"
   ]
  },
  {
   "cell_type": "code",
   "execution_count": 2,
   "metadata": {},
   "outputs": [],
   "source": [
    "game = dealer(deck=full_euchre_deck ,players=4)\n",
    "game.deal_cards()\n",
    "hands = [game.hand1, game.hand2, game.hand3, game.hand4]\n",
    "first_play = [game.hand1[0], game.hand1[1], game.hand1[2], game.hand1[3], game.hand1[4]]\n",
    "\n",
    "# all playable hands\n",
    "all_possible_tricks = calc_all_possible_hands(hands=hands)\n",
    "len(all_possible_tricks)\n",
    "\n",
    "branches = {}\n",
    "i = 0\n",
    "# creates 5 branches with 125 possible tricks each\n",
    "for card in first_play:\n",
    "    i += 1\n",
    "    contains_target = np.any(np.all(all_possible_tricks == card, axis=-1), axis=1)\n",
    "    branches[f'branch{i}'] = all_possible_tricks[contains_target]\n",
    "    # creates all possible tricks based on rules for following suit\n",
    "i=-1\n",
    "for branch in branches.keys():\n",
    "    i+=1\n",
    "    branches[branch] = filter_branch_by_hand(branches[branch] , game.hand2, 1, first_play[i])\n",
    "    branches[branch] = filter_branch_by_hand(branches[branch], game.hand3, 2, first_play[i])\n",
    "    branches[branch] = filter_branch_by_hand(branches[branch], game.hand4, 3, first_play[i])"
   ]
  },
  {
   "cell_type": "code",
   "execution_count": 21,
   "metadata": {},
   "outputs": [
    {
     "data": {
      "text/plain": [
       "(2, 5, 5, 5, 5)"
      ]
     },
     "execution_count": 21,
     "metadata": {},
     "output_type": "execute_result"
    }
   ],
   "source": [
    "len(branches['branch1']), len(branches['branch2']), len(branches['branch3']), len(branches['branch4']), len(branches['branch5'])"
   ]
  },
  {
   "cell_type": "code",
   "execution_count": 22,
   "metadata": {},
   "outputs": [
    {
     "data": {
      "text/plain": [
       "array([[[-12,   0],\n",
       "        [-14,   0],\n",
       "        [ -9,   0],\n",
       "        [-11,   0]],\n",
       "\n",
       "       [[-12,   0],\n",
       "        [-10,   0],\n",
       "        [ -9,   0],\n",
       "        [-11,   0]]])"
      ]
     },
     "execution_count": 22,
     "metadata": {},
     "output_type": "execute_result"
    }
   ],
   "source": [
    "branches['branch1']"
   ]
  },
  {
   "cell_type": "code",
   "execution_count": 23,
   "metadata": {},
   "outputs": [
    {
     "data": {
      "text/plain": [
       "([1, 0], [1, 0])"
      ]
     },
     "execution_count": 23,
     "metadata": {},
     "output_type": "execute_result"
    }
   ],
   "source": [
    "rd1_results = []\n",
    "rd2_lead = []\n",
    "for trick in branches['branch1']:\n",
    "    rd2_winner = find_winner(lead=trick[0], trick=trick) \n",
    "    winning_team = find_winner(lead=trick[0], trick=trick) % 2 # binary results for partners 1,3 and 2,4\n",
    "    rd1_results.append(winning_team)\n",
    "    rd2_lead.append(rd2_winner)\n",
    "\n",
    "rd1_results, rd2_lead"
   ]
  },
  {
   "cell_type": "code",
   "execution_count": 24,
   "metadata": {},
   "outputs": [],
   "source": [
    "rd2_all_possible_tricks = []\n",
    "for trick in branches['branch1']:\n",
    "    rd2_hands = [setdiff2d_idx(game.hand1, trick),\n",
    "    setdiff2d_idx(game.hand2, trick),\n",
    "    setdiff2d_idx(game.hand3, trick),\n",
    "    setdiff2d_idx(game.hand4, trick)]\n",
    "    rd2_all_possible_tricks.append(calc_all_possible_hands(hands=rd2_hands))\n",
    "\n",
    "rd2_ap_arr = np.array(rd2_all_possible_tricks)\n",
    "\n",
    "rd2_lead_hands = []\n",
    "for player in rd2_lead:\n",
    "    first_play = [rd2_hands[player][0], rd2_hands[player][1], rd2_hands[player][2], rd2_hands[player][3]]\n",
    "    rd2_lead_hands.append(first_play)"
   ]
  },
  {
   "cell_type": "code",
   "execution_count": 36,
   "metadata": {},
   "outputs": [
    {
     "name": "stdout",
     "output_type": "stream",
     "text": [
      "[array([  0, -13]), array([  0, 130]), array([-14,   0]), array([ 0, -9])]\n",
      "[  0 -13]\n",
      "[  0 130]\n",
      "[-14   0]\n",
      "[ 0 -9]\n",
      "[array([  0, 110]), array([  0, 140]), array([ 0, 90]), array([  0, 100])]\n",
      "[  0 110]\n",
      "[  0 140]\n",
      "[ 0 90]\n",
      "[  0 100]\n"
     ]
    }
   ],
   "source": [
    "\n",
    "for hand in rd2_lead_hands:\n",
    "    print(hand)\n",
    "    for card in hand:\n",
    "        print(card)"
   ]
  },
  {
   "cell_type": "code",
   "execution_count": 37,
   "metadata": {},
   "outputs": [
    {
     "name": "stdout",
     "output_type": "stream",
     "text": [
      "1\n",
      "0\n"
     ]
    }
   ],
   "source": [
    "for leader in rd2_lead:\n",
    "    print(leader)"
   ]
  },
  {
   "cell_type": "code",
   "execution_count": 39,
   "metadata": {},
   "outputs": [
    {
     "name": "stdout",
     "output_type": "stream",
     "text": [
      "[array([  0, -13]), array([  0, 130]), array([-14,   0]), array([ 0, -9])]\n",
      "[  0 -13]\n",
      "[  0 130]\n",
      "[-14   0]\n",
      "[ 0 -9]\n",
      "[array([  0, 110]), array([  0, 140]), array([ 0, 90]), array([  0, 100])]\n",
      "[  0 110]\n",
      "[  0 140]\n",
      "[ 0 90]\n",
      "[  0 100]\n",
      "[array([  0, -13]), array([  0, 130]), array([-14,   0]), array([ 0, -9])]\n",
      "[  0 -13]\n",
      "[  0 130]\n",
      "[-14   0]\n",
      "[ 0 -9]\n",
      "[array([  0, 110]), array([  0, 140]), array([ 0, 90]), array([  0, 100])]\n",
      "[  0 110]\n",
      "[  0 140]\n",
      "[ 0 90]\n",
      "[  0 100]\n"
     ]
    }
   ],
   "source": [
    "rd2_grids = []\n",
    "for leader in rd2_lead:\n",
    "    for hand in rd2_lead_hands:\n",
    "        print(hand)\n",
    "        for card in hand:\n",
    "            print(card)\n",
    "            grid = rd2_ap_arr[leader]\n",
    "            rd2_contains_target = np.any(np.all(grid == card, axis=-1), axis=1)\n",
    "            rd2_grids.append(grid[rd2_contains_target])\n",
    "            "
   ]
  },
  {
   "cell_type": "code",
   "execution_count": 40,
   "metadata": {},
   "outputs": [
    {
     "data": {
      "text/plain": [
       "16"
      ]
     },
     "execution_count": 40,
     "metadata": {},
     "output_type": "execute_result"
    }
   ],
   "source": [
    "len(rd2_grids)"
   ]
  },
  {
   "cell_type": "code",
   "execution_count": 28,
   "metadata": {},
   "outputs": [],
   "source": [
    "# # gotta fix this block to account for different players starting the game. \n",
    "# for j in np.arange(1, 4*len(branches['branch1'])+1):\n",
    "#     branches[f'branch1_{j}'] = filter_branch_by_hand(branches[f'branch1_{j}'] , game.hand2, 1, card)\n",
    "#     branches[f'branch1_{j}'] = filter_branch_by_hand(branches[f'branch1_{j}'], game.hand3, 2, card)\n",
    "#     branches[f'branch1_{j}'] = filter_branch_by_hand(branches[f'branch1_{j}'], game.hand4, 3, card)"
   ]
  }
 ],
 "metadata": {
  "kernelspec": {
   "display_name": "ff_env",
   "language": "python",
   "name": "python3"
  },
  "language_info": {
   "codemirror_mode": {
    "name": "ipython",
    "version": 3
   },
   "file_extension": ".py",
   "mimetype": "text/x-python",
   "name": "python",
   "nbconvert_exporter": "python",
   "pygments_lexer": "ipython3",
   "version": "3.11.3"
  }
 },
 "nbformat": 4,
 "nbformat_minor": 2
}
