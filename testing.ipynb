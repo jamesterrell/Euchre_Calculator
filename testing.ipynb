{
 "cells": [
  {
   "cell_type": "code",
   "execution_count": 111,
   "metadata": {},
   "outputs": [],
   "source": [
    "import numpy as np\n",
    "from deck import full_euchre_deck\n",
    "from branch_calc import (\n",
    "    filter_branch_by_hand,\n",
    "    setdiff2d_idx,\n",
    "    suit_id,\n",
    "    find_winner,\n",
    "    calc_all_possible_hands,\n",
    ")\n",
    "from dealer import dealer"
   ]
  },
  {
   "cell_type": "code",
   "execution_count": 112,
   "metadata": {},
   "outputs": [],
   "source": [
    "game = dealer(deck=full_euchre_deck ,players=4)\n",
    "game.deal_cards()\n",
    "hands = [game.hand1, game.hand2, game.hand3, game.hand4]\n",
    "first_play = [game.hand1[0], game.hand1[1], game.hand1[2], game.hand1[3], game.hand1[4]]"
   ]
  },
  {
   "cell_type": "code",
   "execution_count": 113,
   "metadata": {},
   "outputs": [
    {
     "data": {
      "text/plain": [
       "625"
      ]
     },
     "execution_count": 113,
     "metadata": {},
     "output_type": "execute_result"
    }
   ],
   "source": [
    "# all playable hands\n",
    "all_possible_tricks = calc_all_possible_hands(hands=hands)\n",
    "len(all_possible_tricks)"
   ]
  },
  {
   "cell_type": "code",
   "execution_count": 114,
   "metadata": {},
   "outputs": [],
   "source": [
    "branches = {}\n",
    "i = 0\n",
    "# creates 5 branches with 125 possible tricks each\n",
    "for card in first_play:\n",
    "    i += 1\n",
    "    contains_target = np.any(np.all(all_possible_tricks == card, axis=-1), axis=1)\n",
    "    branches[f'branch{i}'] = all_possible_tricks[contains_target]"
   ]
  },
  {
   "cell_type": "code",
   "execution_count": 115,
   "metadata": {},
   "outputs": [],
   "source": [
    "# creates all possible tricks based on rules for following suit\n",
    "i=-1\n",
    "for branch in branches.keys():\n",
    "    i+=1\n",
    "    branches[branch] = filter_branch_by_hand(branches[branch] , game.hand2, 1, first_play[i])\n",
    "    branches[branch] = filter_branch_by_hand(branches[branch], game.hand3, 2, first_play[i])\n",
    "    branches[branch] = filter_branch_by_hand(branches[branch], game.hand4, 3, first_play[i])"
   ]
  },
  {
   "cell_type": "code",
   "execution_count": 116,
   "metadata": {},
   "outputs": [
    {
     "data": {
      "text/plain": [
       "{'hand1': array([[   0, -135],\n",
       "        [   0,   -9],\n",
       "        [ -13,    0],\n",
       "        [  12,    0],\n",
       "        [   0,  100]]),\n",
       " 'hand2': array([[  0, 140],\n",
       "        [-14,   0],\n",
       "        [ -9,   0],\n",
       "        [  0, -12],\n",
       "        [  0, -11]]),\n",
       " 'hand3': array([[ 13,   0],\n",
       "        [  0, -13],\n",
       "        [-11,   0],\n",
       "        [ 14,   0],\n",
       "        [  0, 110]]),\n",
       " 'hand4': array([[-12,   0],\n",
       "        [  0, 120],\n",
       "        [ 10,   0],\n",
       "        [-10,   0],\n",
       "        [  0, 130]])}"
      ]
     },
     "execution_count": 116,
     "metadata": {},
     "output_type": "execute_result"
    }
   ],
   "source": [
    "game.hands"
   ]
  },
  {
   "cell_type": "code",
   "execution_count": null,
   "metadata": {},
   "outputs": [
    {
     "data": {
      "text/plain": [
       "(2,\n",
       " array([[[   0, -135],\n",
       "         [   0,  140],\n",
       "         [   0,  110],\n",
       "         [   0,  120]],\n",
       " \n",
       "        [[   0, -135],\n",
       "         [   0,  140],\n",
       "         [   0,  110],\n",
       "         [   0,  130]]]))"
      ]
     },
     "execution_count": 117,
     "metadata": {},
     "output_type": "execute_result"
    }
   ],
   "source": [
    "len(branches['branch1']), branches['branch1']"
   ]
  },
  {
   "cell_type": "code",
   "execution_count": 118,
   "metadata": {},
   "outputs": [
    {
     "name": "stdout",
     "output_type": "stream",
     "text": [
      "1\n",
      "[-14   0]\n",
      "[-9  0]\n",
      "[  0 -12]\n",
      "[  0 -11]\n",
      "1\n",
      "[-14   0]\n",
      "[-9  0]\n",
      "[  0 -12]\n",
      "[  0 -11]\n"
     ]
    }
   ],
   "source": [
    "# 2nd round progression. For each trick winner, 4 different cards can be played the following round\n",
    "# so if round one of a branch results in 5 possible tricks, the branch would continue with 20 possible tricks\n",
    "# the following round because each lead player has 4 options. \n",
    "\n",
    "# this is getting very complicated\n",
    "i=0\n",
    "for trick in branches['branch1']:\n",
    "    rd2_lead = find_winner(lead=trick[0], trick=trick)\n",
    "    print(rd2_lead)\n",
    "    hands = [setdiff2d_idx(game.hand1, trick),\n",
    "    setdiff2d_idx(game.hand2, trick),\n",
    "    setdiff2d_idx(game.hand3, trick),\n",
    "    setdiff2d_idx(game.hand4, trick)]\n",
    "    round2 = calc_all_possible_hands(hands=hands)\n",
    "    for card in hands[rd2_lead]:\n",
    "        i += 1\n",
    "        contains_target = np.any(np.all(round2 == card, axis=-1), axis=1)\n",
    "        branches[f'branch1_{i}'] = round2[contains_target]\n",
    "        print(card)\n"
   ]
  },
  {
   "cell_type": "code",
   "execution_count": 119,
   "metadata": {},
   "outputs": [],
   "source": [
    "# gotta fix this block to account for different players starting the game. \n",
    "\n",
    "for j in np.arange(1, 4*len(branches['branch1'])+1):\n",
    "    branches[f'branch1_{j}'] = filter_branch_by_hand(branches[f'branch1_{j}'] , game.hand2, 1, card)\n",
    "    branches[f'branch1_{j}'] = filter_branch_by_hand(branches[f'branch1_{j}'], game.hand3, 2, card)\n",
    "    branches[f'branch1_{j}'] = filter_branch_by_hand(branches[f'branch1_{j}'], game.hand4, 3, card)"
   ]
  },
  {
   "cell_type": "code",
   "execution_count": 120,
   "metadata": {},
   "outputs": [
    {
     "data": {
      "text/plain": [
       "dict_keys(['branch1', 'branch2', 'branch3', 'branch4', 'branch5', 'branch1_1', 'branch1_2', 'branch1_3', 'branch1_4', 'branch1_5', 'branch1_6', 'branch1_7', 'branch1_8'])"
      ]
     },
     "execution_count": 120,
     "metadata": {},
     "output_type": "execute_result"
    }
   ],
   "source": [
    "branches.keys()"
   ]
  },
  {
   "cell_type": "code",
   "execution_count": 121,
   "metadata": {},
   "outputs": [],
   "source": [
    "# len(second_round.keys()), second_round"
   ]
  }
 ],
 "metadata": {
  "kernelspec": {
   "display_name": "ff_env",
   "language": "python",
   "name": "python3"
  },
  "language_info": {
   "codemirror_mode": {
    "name": "ipython",
    "version": 3
   },
   "file_extension": ".py",
   "mimetype": "text/x-python",
   "name": "python",
   "nbconvert_exporter": "python",
   "pygments_lexer": "ipython3",
   "version": "3.11.3"
  }
 },
 "nbformat": 4,
 "nbformat_minor": 2
}
