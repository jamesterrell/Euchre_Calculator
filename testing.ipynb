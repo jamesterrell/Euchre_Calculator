{
 "cells": [
  {
   "cell_type": "code",
   "execution_count": 1,
   "metadata": {},
   "outputs": [],
   "source": [
    "import numpy as np\n",
    "from deck import full_euchre_deck\n",
    "from dealer import dealer"
   ]
  },
  {
   "cell_type": "code",
   "execution_count": 2,
   "metadata": {},
   "outputs": [
    {
     "data": {
      "text/plain": [
       "(array([[ 14,   0],\n",
       "        [  0,  12],\n",
       "        [  0,  10],\n",
       "        [ 11,   0],\n",
       "        [-10,   0]]),\n",
       " array([[  0, -14],\n",
       "        [  0,  11],\n",
       "        [-12,   0],\n",
       "        [  0, -10],\n",
       "        [  0,  13]]),\n",
       " array([[ 13,   0],\n",
       "        [  0,   9],\n",
       "        [ 12,   0],\n",
       "        [-13,   0],\n",
       "        [-14,   0]]))"
      ]
     },
     "execution_count": 2,
     "metadata": {},
     "output_type": "execute_result"
    }
   ],
   "source": [
    "game = dealer(deck=full_euchre_deck ,players=3)\n",
    "game.deal_cards()\n",
    "game.hand1, game.hand2, game.hand3"
   ]
  },
  {
   "cell_type": "code",
   "execution_count": 3,
   "metadata": {},
   "outputs": [
    {
     "data": {
      "text/plain": [
       "{'hand1': array([[ 14,   0],\n",
       "        [  0,  12],\n",
       "        [  0,  10],\n",
       "        [ 11,   0],\n",
       "        [-10,   0]]),\n",
       " 'hand2': array([[  0, -14],\n",
       "        [  0,  11],\n",
       "        [-12,   0],\n",
       "        [  0, -10],\n",
       "        [  0,  13]]),\n",
       " 'hand3': array([[ 13,   0],\n",
       "        [  0,   9],\n",
       "        [ 12,   0],\n",
       "        [-13,   0],\n",
       "        [-14,   0]])}"
      ]
     },
     "execution_count": 3,
     "metadata": {},
     "output_type": "execute_result"
    }
   ],
   "source": [
    "game.hands"
   ]
  },
  {
   "cell_type": "code",
   "execution_count": 4,
   "metadata": {},
   "outputs": [],
   "source": [
    "game.hands['hand4'] =  np.array([[-10,   0],\n",
    "        [  0,   9],\n",
    "        [  0,  11],\n",
    "        [ -9,   0],\n",
    "        [ 12,   0]])"
   ]
  },
  {
   "cell_type": "code",
   "execution_count": 5,
   "metadata": {},
   "outputs": [
    {
     "data": {
      "text/plain": [
       "{'hand1': array([[ 14,   0],\n",
       "        [  0,  12],\n",
       "        [  0,  10],\n",
       "        [ 11,   0],\n",
       "        [-10,   0]]),\n",
       " 'hand2': array([[  0, -14],\n",
       "        [  0,  11],\n",
       "        [-12,   0],\n",
       "        [  0, -10],\n",
       "        [  0,  13]]),\n",
       " 'hand3': array([[ 13,   0],\n",
       "        [  0,   9],\n",
       "        [ 12,   0],\n",
       "        [-13,   0],\n",
       "        [-14,   0]]),\n",
       " 'hand4': array([[-10,   0],\n",
       "        [  0,   9],\n",
       "        [  0,  11],\n",
       "        [ -9,   0],\n",
       "        [ 12,   0]])}"
      ]
     },
     "execution_count": 5,
     "metadata": {},
     "output_type": "execute_result"
    }
   ],
   "source": [
    "game.hands"
   ]
  },
  {
   "cell_type": "code",
   "execution_count": 7,
   "metadata": {},
   "outputs": [],
   "source": [
    "game.hand4 = game.hands['hand4']"
   ]
  },
  {
   "cell_type": "code",
   "execution_count": 8,
   "metadata": {},
   "outputs": [
    {
     "data": {
      "text/plain": [
       "array([[-10,   0],\n",
       "       [  0,   9],\n",
       "       [  0,  11],\n",
       "       [ -9,   0],\n",
       "       [ 12,   0]])"
      ]
     },
     "execution_count": 8,
     "metadata": {},
     "output_type": "execute_result"
    }
   ],
   "source": [
    "game.hand4"
   ]
  }
 ],
 "metadata": {
  "kernelspec": {
   "display_name": "ff_env",
   "language": "python",
   "name": "python3"
  },
  "language_info": {
   "codemirror_mode": {
    "name": "ipython",
    "version": 3
   },
   "file_extension": ".py",
   "mimetype": "text/x-python",
   "name": "python",
   "nbconvert_exporter": "python",
   "pygments_lexer": "ipython3",
   "version": "3.11.3"
  }
 },
 "nbformat": 4,
 "nbformat_minor": 2
}
