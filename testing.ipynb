{
 "cells": [
  {
   "cell_type": "code",
   "execution_count": 109,
   "metadata": {},
   "outputs": [],
   "source": [
    "import numpy as np\n",
    "from deck import full_euchre_deck, card_evaluator\n",
    "from dealer import dealer"
   ]
  },
  {
   "cell_type": "code",
   "execution_count": 110,
   "metadata": {},
   "outputs": [],
   "source": [
    "game = dealer(deck=full_euchre_deck ,players=4)\n",
    "game.deal_cards()\n",
    "hands = [game.hand1, game.hand2, game.hand3, game.hand4]\n"
   ]
  },
  {
   "cell_type": "code",
   "execution_count": 111,
   "metadata": {},
   "outputs": [
    {
     "data": {
      "text/plain": [
       "array([[  0,  12],\n",
       "       [  0, -11],\n",
       "       [ 10,   0],\n",
       "       [ -9,   0],\n",
       "       [  0,  -9]])"
      ]
     },
     "execution_count": 111,
     "metadata": {},
     "output_type": "execute_result"
    }
   ],
   "source": [
    "game.hand1"
   ]
  },
  {
   "cell_type": "code",
   "execution_count": 112,
   "metadata": {},
   "outputs": [],
   "source": [
    "# all playable hands\n",
    "grids = np.meshgrid(*[np.arange(len(a)) for a in hands], indexing='ij')\n",
    "product_indices = np.stack(grids, axis=-1).reshape(-1, len(hands))\n",
    "\n",
    "# Gather the cross product result based on indices, 625 results total\n",
    "cross_product = np.array([[hands[i][idx] for i, idx in enumerate(row)] for row in product_indices])"
   ]
  },
  {
   "cell_type": "code",
   "execution_count": 113,
   "metadata": {},
   "outputs": [],
   "source": [
    "target = np.array(game.hand1[0])\n",
    "\n",
    "# Find indices where the subarray equals [0, 10]\n",
    "contains_target = np.any(np.all(cross_product == target, axis=-1), axis=1)\n",
    "\n",
    "# Use the boolean mask to return only rows containing [0, 10]\n",
    "branch1 = cross_product[contains_target]"
   ]
  },
  {
   "cell_type": "code",
   "execution_count": null,
   "metadata": {},
   "outputs": [],
   "source": [
    "follows_suit = [coord for coord in hand if (coord[0] == 0 and coord[1] > 0) or coord[1] == -14]"
   ]
  },
  {
   "cell_type": "code",
   "execution_count": 115,
   "metadata": {},
   "outputs": [
    {
     "data": {
      "text/plain": [
       "(array([[11,  0],\n",
       "        [ 0, 14],\n",
       "        [14,  0],\n",
       "        [ 9,  0],\n",
       "        [12,  0]]),\n",
       " array([[  0,  10],\n",
       "        [-14,   0],\n",
       "        [-13,   0],\n",
       "        [-12,   0],\n",
       "        [-11,   0]]),\n",
       " array([[  0, -12],\n",
       "        [  0,  11],\n",
       "        [  0, -10],\n",
       "        [  0,   9],\n",
       "        [ 13,   0]]))"
      ]
     },
     "execution_count": 115,
     "metadata": {},
     "output_type": "execute_result"
    }
   ],
   "source": [
    "game.hand2, game.hand3, game.hand4"
   ]
  },
  {
   "cell_type": "code",
   "execution_count": 116,
   "metadata": {},
   "outputs": [
    {
     "data": {
      "text/plain": [
       "array([[[ 0, 12],\n",
       "        [ 0, 14],\n",
       "        [ 0, 10],\n",
       "        [ 0, 11]],\n",
       "\n",
       "       [[ 0, 12],\n",
       "        [ 0, 14],\n",
       "        [ 0, 10],\n",
       "        [ 0,  9]]])"
      ]
     },
     "execution_count": 116,
     "metadata": {},
     "output_type": "execute_result"
    }
   ],
   "source": [
    "def filter_branch_by_hand(branch, hand, column_idx):\n",
    "    follows_suit = [coord for coord in hand if (coord[0] == 0 and coord[1] > 0) or coord[1] == -14]\n",
    "    follows_suit_arr = np.array(follows_suit)\n",
    "    \n",
    "    if len(follows_suit_arr) > 0:\n",
    "        matches = np.any([np.all(branch[:, column_idx] == i, axis=1) for i in follows_suit_arr], axis=0)\n",
    "        branch = branch[matches]\n",
    "    \n",
    "    return branch\n",
    "\n",
    "# Now use it for each hand\n",
    "branch1 = filter_branch_by_hand(branch1, game.hand2, 1)\n",
    "branch1 = filter_branch_by_hand(branch1, game.hand3, 2)\n",
    "branch1 = filter_branch_by_hand(branch1, game.hand4, 3)\n",
    "\n",
    "branch1"
   ]
  }
 ],
 "metadata": {
  "kernelspec": {
   "display_name": "ff_env",
   "language": "python",
   "name": "python3"
  },
  "language_info": {
   "codemirror_mode": {
    "name": "ipython",
    "version": 3
   },
   "file_extension": ".py",
   "mimetype": "text/x-python",
   "name": "python",
   "nbconvert_exporter": "python",
   "pygments_lexer": "ipython3",
   "version": "3.11.3"
  }
 },
 "nbformat": 4,
 "nbformat_minor": 2
}
