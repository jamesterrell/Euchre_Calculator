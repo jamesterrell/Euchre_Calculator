{
 "cells": [
  {
   "cell_type": "code",
   "execution_count": 1,
   "metadata": {},
   "outputs": [],
   "source": [
    "import numpy as np\n",
    "from deck import full_euchre_deck, card_evaluator\n",
    "from dealer import dealer"
   ]
  },
  {
   "cell_type": "code",
   "execution_count": 2,
   "metadata": {},
   "outputs": [],
   "source": [
    "game = dealer(deck=full_euchre_deck ,players=4)\n",
    "game.deal_cards()\n",
    "hands = [game.hand1, game.hand2, game.hand3, game.hand4]"
   ]
  },
  {
   "cell_type": "code",
   "execution_count": 3,
   "metadata": {},
   "outputs": [
    {
     "data": {
      "text/plain": [
       "array([14., 11., 12., 14.])"
      ]
     },
     "execution_count": 3,
     "metadata": {},
     "output_type": "execute_result"
    }
   ],
   "source": [
    "# all playable hands\n",
    "grids = np.meshgrid(*[np.arange(len(a)) for a in hands], indexing='ij')\n",
    "product_indices = np.stack(grids, axis=-1).reshape(-1, len(hands))\n",
    "\n",
    "# Gather the cross product result based on indices, 625 results total\n",
    "cross_product = np.array([[hands[i][idx] for i, idx in enumerate(row)] for row in product_indices])\n",
    "\n",
    "# just testing\n",
    "test = cross_product[0]\n",
    "np.apply_along_axis(card_evaluator, axis=1, arr=test)\n"
   ]
  }
 ],
 "metadata": {
  "kernelspec": {
   "display_name": "ff_env",
   "language": "python",
   "name": "python3"
  },
  "language_info": {
   "codemirror_mode": {
    "name": "ipython",
    "version": 3
   },
   "file_extension": ".py",
   "mimetype": "text/x-python",
   "name": "python",
   "nbconvert_exporter": "python",
   "pygments_lexer": "ipython3",
   "version": "3.11.3"
  }
 },
 "nbformat": 4,
 "nbformat_minor": 2
}
