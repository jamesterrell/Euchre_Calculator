{
 "cells": [
  {
   "cell_type": "code",
   "execution_count": 27,
   "metadata": {},
   "outputs": [],
   "source": [
    "from deck import full_euchre_deck\n",
    "from dealer import Dealer\n",
    "from n_play_round import round1, next_round\n",
    "import numpy as np\n",
    "from numba import njit\n",
    "from n_branches import (\n",
    "    n_find_winner,\n",
    "    array_set_difference,\n",
    "    common_sense,\n",
    "    n_ap_filter,\n",
    "    nfb_by_hand,\n",
    "    n_tricks,\n",
    "    suit_id\n",
    ")"
   ]
  },
  {
   "cell_type": "code",
   "execution_count": 48,
   "metadata": {},
   "outputs": [],
   "source": [
    "loner = np.array([[0, 135], [ 0, 140], [0, 130], [-9, 0], [0, -9]])\n",
    "loner2 = np.array([[0, 100], [ 0, 90]])"
   ]
  },
  {
   "cell_type": "code",
   "execution_count": 49,
   "metadata": {},
   "outputs": [],
   "source": [
    "game = Dealer(deck=full_euchre_deck ,players=4)\n",
    "game.stack_deck(stack_cards=loner, player=1)\n",
    "game.stack_deck(stack_cards=loner2, player=2)\n",
    "game.deal_cards()\n",
    "hands5 = np.array([game.hand1, game.hand2, game.hand3, game.hand4])"
   ]
  },
  {
   "cell_type": "code",
   "execution_count": 50,
   "metadata": {},
   "outputs": [
    {
     "data": {
      "text/plain": [
       "array([[[  0, 135],\n",
       "        [  0, 140],\n",
       "        [  0, 130],\n",
       "        [ -9,   0],\n",
       "        [  0,  -9]],\n",
       "\n",
       "       [[  0, 100],\n",
       "        [  0,  90],\n",
       "        [-10,   0],\n",
       "        [  0, -14],\n",
       "        [-13,   0]],\n",
       "\n",
       "       [[  0, -12],\n",
       "        [  0, -10],\n",
       "        [ 13,   0],\n",
       "        [ 14,   0],\n",
       "        [-12,   0]],\n",
       "\n",
       "       [[  0, -13],\n",
       "        [-14,   0],\n",
       "        [ 12,   0],\n",
       "        [  0, 120],\n",
       "        [  0, 110]]])"
      ]
     },
     "execution_count": 50,
     "metadata": {},
     "output_type": "execute_result"
    }
   ],
   "source": [
    "hands5"
   ]
  },
  {
   "cell_type": "code",
   "execution_count": 51,
   "metadata": {},
   "outputs": [
    {
     "name": "stdout",
     "output_type": "stream",
     "text": [
      "19\n"
     ]
    }
   ],
   "source": [
    "r2_leads, r2_hands = round1(hands_dealt=hands5)"
   ]
  },
  {
   "cell_type": "code",
   "execution_count": 52,
   "metadata": {},
   "outputs": [
    {
     "name": "stdout",
     "output_type": "stream",
     "text": [
      "406\n"
     ]
    }
   ],
   "source": [
    "r3_leads, r3_hands, r2_score = next_round(current_hands=r2_hands, leads=r2_leads, game_round=2, game_score=r2_leads.reshape(-1, 1))"
   ]
  },
  {
   "cell_type": "code",
   "execution_count": 53,
   "metadata": {},
   "outputs": [
    {
     "name": "stdout",
     "output_type": "stream",
     "text": [
      "7674\n"
     ]
    }
   ],
   "source": [
    "r4_leads, r4_hands, r3_score = next_round(current_hands=r3_hands, leads=r3_leads, game_round=3, game_score=r2_score)"
   ]
  },
  {
   "cell_type": "code",
   "execution_count": 54,
   "metadata": {},
   "outputs": [
    {
     "name": "stdout",
     "output_type": "stream",
     "text": [
      "50592\n"
     ]
    }
   ],
   "source": [
    "r5_leads, r5_hands, r4_score = next_round(current_hands=r4_hands, leads=r4_leads, game_round=4, game_score=r3_score)"
   ]
  },
  {
   "cell_type": "code",
   "execution_count": 55,
   "metadata": {},
   "outputs": [
    {
     "name": "stdout",
     "output_type": "stream",
     "text": [
      "50592\n"
     ]
    }
   ],
   "source": [
    "r6_leads, r6_hands, r5_score = next_round(current_hands=r5_hands, leads=r5_leads, game_round=5, game_score=r4_score)"
   ]
  },
  {
   "cell_type": "code",
   "execution_count": 56,
   "metadata": {},
   "outputs": [],
   "source": [
    "results = r5_score.reshape(r5_score.shape[0], 5)"
   ]
  },
  {
   "cell_type": "code",
   "execution_count": 57,
   "metadata": {},
   "outputs": [
    {
     "data": {
      "text/plain": [
       "np.float64(1.0)"
      ]
     },
     "execution_count": 57,
     "metadata": {},
     "output_type": "execute_result"
    }
   ],
   "source": [
    "np.mean([sum(i)<3 for i in results%2])"
   ]
  }
 ],
 "metadata": {
  "kernelspec": {
   "display_name": "euchre_env",
   "language": "python",
   "name": "python3"
  },
  "language_info": {
   "codemirror_mode": {
    "name": "ipython",
    "version": 3
   },
   "file_extension": ".py",
   "mimetype": "text/x-python",
   "name": "python",
   "nbconvert_exporter": "python",
   "pygments_lexer": "ipython3",
   "version": "3.11.10"
  }
 },
 "nbformat": 4,
 "nbformat_minor": 2
}
