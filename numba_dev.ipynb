{
 "cells": [
  {
   "cell_type": "code",
   "execution_count": 7,
   "metadata": {},
   "outputs": [],
   "source": [
    "from deck import full_euchre_deck\n",
    "from dealer import Dealer\n",
    "from n_branches import (\n",
    "    n_tricks,\n",
    "    n_ap_filter,\n",
    "    nfb_by_hand,\n",
    "    n_winners,\n",
    ")\n",
    "from numba import njit\n",
    "import numpy as np"
   ]
  },
  {
   "cell_type": "code",
   "execution_count": 8,
   "metadata": {},
   "outputs": [],
   "source": [
    "game = Dealer(deck=full_euchre_deck ,players=4)\n",
    "game.deal_cards()\n",
    "hands5 = np.array([game.hand1, game.hand2, game.hand3, game.hand4])"
   ]
  },
  {
   "cell_type": "code",
   "execution_count": 9,
   "metadata": {},
   "outputs": [],
   "source": [
    "all_possible_tricks = n_tricks(hands5)"
   ]
  },
  {
   "cell_type": "code",
   "execution_count": 10,
   "metadata": {},
   "outputs": [],
   "source": [
    "branch = n_ap_filter(tricks=all_possible_tricks, target=hands5[0][0], lead=0)\n",
    "branch = nfb_by_hand(branch=branch, hand=1, target=hands5[0][0])\n",
    "branch = nfb_by_hand(branch=branch, hand=2, target=hands5[0][0])\n",
    "branch = nfb_by_hand(branch=branch, hand=3, target=hands5[0][0])"
   ]
  },
  {
   "cell_type": "code",
   "execution_count": 11,
   "metadata": {},
   "outputs": [
    {
     "data": {
      "text/plain": [
       "30"
      ]
     },
     "execution_count": 11,
     "metadata": {},
     "output_type": "execute_result"
    }
   ],
   "source": [
    "len(branch)"
   ]
  },
  {
   "cell_type": "code",
   "execution_count": 12,
   "metadata": {},
   "outputs": [
    {
     "data": {
      "text/plain": [
       "array([1, 1, 1, 1, 1, 1, 1, 1, 1, 1, 2, 2, 2, 2, 2, 0, 0, 0, 0, 0, 2, 2,\n",
       "       2, 2, 2, 2, 2, 2, 2, 2])"
      ]
     },
     "execution_count": 12,
     "metadata": {},
     "output_type": "execute_result"
    }
   ],
   "source": [
    "n_winners(branch=branch, lead=0)"
   ]
  }
 ],
 "metadata": {
  "kernelspec": {
   "display_name": "euchre_env",
   "language": "python",
   "name": "python3"
  },
  "language_info": {
   "codemirror_mode": {
    "name": "ipython",
    "version": 3
   },
   "file_extension": ".py",
   "mimetype": "text/x-python",
   "name": "python",
   "nbconvert_exporter": "python",
   "pygments_lexer": "ipython3",
   "version": "3.11.10"
  }
 },
 "nbformat": 4,
 "nbformat_minor": 2
}
