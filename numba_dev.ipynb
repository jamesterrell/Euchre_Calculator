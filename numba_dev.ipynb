{
 "cells": [
  {
   "cell_type": "code",
   "execution_count": 2,
   "metadata": {},
   "outputs": [],
   "source": [
    "from deck import full_euchre_deck\n",
    "from dealer import Dealer\n",
    "from n_play_round import round1, next_round\n",
    "import numpy as np\n",
    "from numba import njit\n",
    "from n_branches import n_find_winner, array_set_difference, n_ap_filter, nfb_by_hand, n_tricks"
   ]
  },
  {
   "cell_type": "code",
   "execution_count": 3,
   "metadata": {},
   "outputs": [],
   "source": [
    "loner = np.array([[0, 135], [ 0, 140], [0, 130], [-9, 0], [0, -9]])\n",
    "loner2 = np.array([[0, 100], [ 0, 90]])"
   ]
  },
  {
   "cell_type": "code",
   "execution_count": 4,
   "metadata": {},
   "outputs": [],
   "source": [
    "game = Dealer(deck=full_euchre_deck ,players=4)\n",
    "game.stack_deck(stack_cards=loner, player=1)\n",
    "game.stack_deck(stack_cards=loner2, player=2)\n",
    "game.deal_cards()\n",
    "hands5 = np.array([game.hand1, game.hand2, game.hand3, game.hand4])"
   ]
  },
  {
   "cell_type": "code",
   "execution_count": 5,
   "metadata": {},
   "outputs": [
    {
     "data": {
      "text/plain": [
       "array([[[  0, 135],\n",
       "        [  0, 140],\n",
       "        [  0, 130],\n",
       "        [ -9,   0],\n",
       "        [  0,  -9]],\n",
       "\n",
       "       [[  0, 100],\n",
       "        [  0,  90],\n",
       "        [  0, -12],\n",
       "        [ 11,   0],\n",
       "        [  0, 120]],\n",
       "\n",
       "       [[ 13,   0],\n",
       "        [-14,   0],\n",
       "        [  0, 110],\n",
       "        [  0, -14],\n",
       "        [  0, -10]],\n",
       "\n",
       "       [[ 14,   0],\n",
       "        [ 10,   0],\n",
       "        [-11,   0],\n",
       "        [  0, -13],\n",
       "        [  9,   0]]])"
      ]
     },
     "execution_count": 5,
     "metadata": {},
     "output_type": "execute_result"
    }
   ],
   "source": [
    "hands5"
   ]
  },
  {
   "cell_type": "code",
   "execution_count": 6,
   "metadata": {},
   "outputs": [],
   "source": [
    "all_possible_tricks = n_tricks(hands5)\n",
    "branch = n_ap_filter(tricks=all_possible_tricks, target=hands5[0][0], lead=0)\n",
    "branch = nfb_by_hand(branch=branch, hand=(0+1)%4, target=hands5[0][0])"
   ]
  },
  {
   "cell_type": "code",
   "execution_count": 10,
   "metadata": {},
   "outputs": [
    {
     "data": {
      "text/plain": [
       "array([[[  0, 135],\n",
       "        [  0, 100],\n",
       "        [ 13,   0],\n",
       "        [ 14,   0]],\n",
       "\n",
       "       [[  0, 135],\n",
       "        [  0, 100],\n",
       "        [ 13,   0],\n",
       "        [ 10,   0]],\n",
       "\n",
       "       [[  0, 135],\n",
       "        [  0, 100],\n",
       "        [ 13,   0],\n",
       "        [-11,   0]],\n",
       "\n",
       "       [[  0, 135],\n",
       "        [  0, 100],\n",
       "        [ 13,   0],\n",
       "        [  0, -13]],\n",
       "\n",
       "       [[  0, 135],\n",
       "        [  0, 100],\n",
       "        [ 13,   0],\n",
       "        [  9,   0]],\n",
       "\n",
       "       [[  0, 135],\n",
       "        [  0, 100],\n",
       "        [-14,   0],\n",
       "        [ 14,   0]],\n",
       "\n",
       "       [[  0, 135],\n",
       "        [  0, 100],\n",
       "        [-14,   0],\n",
       "        [ 10,   0]],\n",
       "\n",
       "       [[  0, 135],\n",
       "        [  0, 100],\n",
       "        [-14,   0],\n",
       "        [-11,   0]],\n",
       "\n",
       "       [[  0, 135],\n",
       "        [  0, 100],\n",
       "        [-14,   0],\n",
       "        [  0, -13]],\n",
       "\n",
       "       [[  0, 135],\n",
       "        [  0, 100],\n",
       "        [-14,   0],\n",
       "        [  9,   0]],\n",
       "\n",
       "       [[  0, 135],\n",
       "        [  0, 100],\n",
       "        [  0, 110],\n",
       "        [ 14,   0]],\n",
       "\n",
       "       [[  0, 135],\n",
       "        [  0, 100],\n",
       "        [  0, 110],\n",
       "        [ 10,   0]],\n",
       "\n",
       "       [[  0, 135],\n",
       "        [  0, 100],\n",
       "        [  0, 110],\n",
       "        [-11,   0]],\n",
       "\n",
       "       [[  0, 135],\n",
       "        [  0, 100],\n",
       "        [  0, 110],\n",
       "        [  0, -13]],\n",
       "\n",
       "       [[  0, 135],\n",
       "        [  0, 100],\n",
       "        [  0, 110],\n",
       "        [  9,   0]],\n",
       "\n",
       "       [[  0, 135],\n",
       "        [  0, 100],\n",
       "        [  0, -14],\n",
       "        [ 14,   0]],\n",
       "\n",
       "       [[  0, 135],\n",
       "        [  0, 100],\n",
       "        [  0, -14],\n",
       "        [ 10,   0]],\n",
       "\n",
       "       [[  0, 135],\n",
       "        [  0, 100],\n",
       "        [  0, -14],\n",
       "        [-11,   0]],\n",
       "\n",
       "       [[  0, 135],\n",
       "        [  0, 100],\n",
       "        [  0, -14],\n",
       "        [  0, -13]],\n",
       "\n",
       "       [[  0, 135],\n",
       "        [  0, 100],\n",
       "        [  0, -14],\n",
       "        [  9,   0]],\n",
       "\n",
       "       [[  0, 135],\n",
       "        [  0, 100],\n",
       "        [  0, -10],\n",
       "        [ 14,   0]],\n",
       "\n",
       "       [[  0, 135],\n",
       "        [  0, 100],\n",
       "        [  0, -10],\n",
       "        [ 10,   0]],\n",
       "\n",
       "       [[  0, 135],\n",
       "        [  0, 100],\n",
       "        [  0, -10],\n",
       "        [-11,   0]],\n",
       "\n",
       "       [[  0, 135],\n",
       "        [  0, 100],\n",
       "        [  0, -10],\n",
       "        [  0, -13]],\n",
       "\n",
       "       [[  0, 135],\n",
       "        [  0, 100],\n",
       "        [  0, -10],\n",
       "        [  9,   0]],\n",
       "\n",
       "       [[  0, 135],\n",
       "        [  0,  90],\n",
       "        [ 13,   0],\n",
       "        [ 14,   0]],\n",
       "\n",
       "       [[  0, 135],\n",
       "        [  0,  90],\n",
       "        [ 13,   0],\n",
       "        [ 10,   0]],\n",
       "\n",
       "       [[  0, 135],\n",
       "        [  0,  90],\n",
       "        [ 13,   0],\n",
       "        [-11,   0]],\n",
       "\n",
       "       [[  0, 135],\n",
       "        [  0,  90],\n",
       "        [ 13,   0],\n",
       "        [  0, -13]],\n",
       "\n",
       "       [[  0, 135],\n",
       "        [  0,  90],\n",
       "        [ 13,   0],\n",
       "        [  9,   0]],\n",
       "\n",
       "       [[  0, 135],\n",
       "        [  0,  90],\n",
       "        [-14,   0],\n",
       "        [ 14,   0]],\n",
       "\n",
       "       [[  0, 135],\n",
       "        [  0,  90],\n",
       "        [-14,   0],\n",
       "        [ 10,   0]],\n",
       "\n",
       "       [[  0, 135],\n",
       "        [  0,  90],\n",
       "        [-14,   0],\n",
       "        [-11,   0]],\n",
       "\n",
       "       [[  0, 135],\n",
       "        [  0,  90],\n",
       "        [-14,   0],\n",
       "        [  0, -13]],\n",
       "\n",
       "       [[  0, 135],\n",
       "        [  0,  90],\n",
       "        [-14,   0],\n",
       "        [  9,   0]],\n",
       "\n",
       "       [[  0, 135],\n",
       "        [  0,  90],\n",
       "        [  0, 110],\n",
       "        [ 14,   0]],\n",
       "\n",
       "       [[  0, 135],\n",
       "        [  0,  90],\n",
       "        [  0, 110],\n",
       "        [ 10,   0]],\n",
       "\n",
       "       [[  0, 135],\n",
       "        [  0,  90],\n",
       "        [  0, 110],\n",
       "        [-11,   0]],\n",
       "\n",
       "       [[  0, 135],\n",
       "        [  0,  90],\n",
       "        [  0, 110],\n",
       "        [  0, -13]],\n",
       "\n",
       "       [[  0, 135],\n",
       "        [  0,  90],\n",
       "        [  0, 110],\n",
       "        [  9,   0]],\n",
       "\n",
       "       [[  0, 135],\n",
       "        [  0,  90],\n",
       "        [  0, -14],\n",
       "        [ 14,   0]],\n",
       "\n",
       "       [[  0, 135],\n",
       "        [  0,  90],\n",
       "        [  0, -14],\n",
       "        [ 10,   0]],\n",
       "\n",
       "       [[  0, 135],\n",
       "        [  0,  90],\n",
       "        [  0, -14],\n",
       "        [-11,   0]],\n",
       "\n",
       "       [[  0, 135],\n",
       "        [  0,  90],\n",
       "        [  0, -14],\n",
       "        [  0, -13]],\n",
       "\n",
       "       [[  0, 135],\n",
       "        [  0,  90],\n",
       "        [  0, -14],\n",
       "        [  9,   0]],\n",
       "\n",
       "       [[  0, 135],\n",
       "        [  0,  90],\n",
       "        [  0, -10],\n",
       "        [ 14,   0]],\n",
       "\n",
       "       [[  0, 135],\n",
       "        [  0,  90],\n",
       "        [  0, -10],\n",
       "        [ 10,   0]],\n",
       "\n",
       "       [[  0, 135],\n",
       "        [  0,  90],\n",
       "        [  0, -10],\n",
       "        [-11,   0]],\n",
       "\n",
       "       [[  0, 135],\n",
       "        [  0,  90],\n",
       "        [  0, -10],\n",
       "        [  0, -13]],\n",
       "\n",
       "       [[  0, 135],\n",
       "        [  0,  90],\n",
       "        [  0, -10],\n",
       "        [  9,   0]],\n",
       "\n",
       "       [[  0, 135],\n",
       "        [  0, 120],\n",
       "        [ 13,   0],\n",
       "        [ 14,   0]],\n",
       "\n",
       "       [[  0, 135],\n",
       "        [  0, 120],\n",
       "        [ 13,   0],\n",
       "        [ 10,   0]],\n",
       "\n",
       "       [[  0, 135],\n",
       "        [  0, 120],\n",
       "        [ 13,   0],\n",
       "        [-11,   0]],\n",
       "\n",
       "       [[  0, 135],\n",
       "        [  0, 120],\n",
       "        [ 13,   0],\n",
       "        [  0, -13]],\n",
       "\n",
       "       [[  0, 135],\n",
       "        [  0, 120],\n",
       "        [ 13,   0],\n",
       "        [  9,   0]],\n",
       "\n",
       "       [[  0, 135],\n",
       "        [  0, 120],\n",
       "        [-14,   0],\n",
       "        [ 14,   0]],\n",
       "\n",
       "       [[  0, 135],\n",
       "        [  0, 120],\n",
       "        [-14,   0],\n",
       "        [ 10,   0]],\n",
       "\n",
       "       [[  0, 135],\n",
       "        [  0, 120],\n",
       "        [-14,   0],\n",
       "        [-11,   0]],\n",
       "\n",
       "       [[  0, 135],\n",
       "        [  0, 120],\n",
       "        [-14,   0],\n",
       "        [  0, -13]],\n",
       "\n",
       "       [[  0, 135],\n",
       "        [  0, 120],\n",
       "        [-14,   0],\n",
       "        [  9,   0]],\n",
       "\n",
       "       [[  0, 135],\n",
       "        [  0, 120],\n",
       "        [  0, 110],\n",
       "        [ 14,   0]],\n",
       "\n",
       "       [[  0, 135],\n",
       "        [  0, 120],\n",
       "        [  0, 110],\n",
       "        [ 10,   0]],\n",
       "\n",
       "       [[  0, 135],\n",
       "        [  0, 120],\n",
       "        [  0, 110],\n",
       "        [-11,   0]],\n",
       "\n",
       "       [[  0, 135],\n",
       "        [  0, 120],\n",
       "        [  0, 110],\n",
       "        [  0, -13]],\n",
       "\n",
       "       [[  0, 135],\n",
       "        [  0, 120],\n",
       "        [  0, 110],\n",
       "        [  9,   0]],\n",
       "\n",
       "       [[  0, 135],\n",
       "        [  0, 120],\n",
       "        [  0, -14],\n",
       "        [ 14,   0]],\n",
       "\n",
       "       [[  0, 135],\n",
       "        [  0, 120],\n",
       "        [  0, -14],\n",
       "        [ 10,   0]],\n",
       "\n",
       "       [[  0, 135],\n",
       "        [  0, 120],\n",
       "        [  0, -14],\n",
       "        [-11,   0]],\n",
       "\n",
       "       [[  0, 135],\n",
       "        [  0, 120],\n",
       "        [  0, -14],\n",
       "        [  0, -13]],\n",
       "\n",
       "       [[  0, 135],\n",
       "        [  0, 120],\n",
       "        [  0, -14],\n",
       "        [  9,   0]],\n",
       "\n",
       "       [[  0, 135],\n",
       "        [  0, 120],\n",
       "        [  0, -10],\n",
       "        [ 14,   0]],\n",
       "\n",
       "       [[  0, 135],\n",
       "        [  0, 120],\n",
       "        [  0, -10],\n",
       "        [ 10,   0]],\n",
       "\n",
       "       [[  0, 135],\n",
       "        [  0, 120],\n",
       "        [  0, -10],\n",
       "        [-11,   0]],\n",
       "\n",
       "       [[  0, 135],\n",
       "        [  0, 120],\n",
       "        [  0, -10],\n",
       "        [  0, -13]],\n",
       "\n",
       "       [[  0, 135],\n",
       "        [  0, 120],\n",
       "        [  0, -10],\n",
       "        [  9,   0]]])"
      ]
     },
     "execution_count": 10,
     "metadata": {},
     "output_type": "execute_result"
    }
   ],
   "source": [
    "branch"
   ]
  },
  {
   "cell_type": "code",
   "execution_count": null,
   "metadata": {},
   "outputs": [],
   "source": [
    "@njit\n",
    "def common_sense(branch, target, player):\n",
    "    store_vals = np.zeros(shape=(len(branch), 2), dtype=np.int64)\n",
    "    for i in range(len(branch)):\n",
    "        store_vals[i] = branch[i][player] \n",
    "    \n",
    "    store_bools = np.zeros(shape=(len(branch), 2), dtype=np.bool_)\n",
    "    for j in range(len(store_vals)):\n",
    "        store_bools[j] =  np.linalg.norm(store_vals[j].astype(np.float64)) < np.linalg.norm(target.astype(np.float64)) \n",
    "\n",
    "    # in the case this is true, just grab the argmin for stored_vals after finding the card worth. I guess\n",
    "    return np.all(store_bools)"
   ]
  },
  {
   "cell_type": "code",
   "execution_count": 23,
   "metadata": {},
   "outputs": [
    {
     "data": {
      "text/plain": [
       "True"
      ]
     },
     "execution_count": 23,
     "metadata": {},
     "output_type": "execute_result"
    }
   ],
   "source": [
    "common_sense(branch=branch, target=hands5[0][0], player=1)"
   ]
  },
  {
   "cell_type": "code",
   "execution_count": 9,
   "metadata": {},
   "outputs": [
    {
     "ename": "NameError",
     "evalue": "name 'stop' is not defined",
     "output_type": "error",
     "traceback": [
      "\u001b[1;31m---------------------------------------------------------------------------\u001b[0m",
      "\u001b[1;31mNameError\u001b[0m                                 Traceback (most recent call last)",
      "Cell \u001b[1;32mIn[9], line 1\u001b[0m\n\u001b[1;32m----> 1\u001b[0m \u001b[43mstop\u001b[49m\n",
      "\u001b[1;31mNameError\u001b[0m: name 'stop' is not defined"
     ]
    }
   ],
   "source": [
    "stop"
   ]
  },
  {
   "cell_type": "code",
   "execution_count": null,
   "metadata": {},
   "outputs": [],
   "source": [
    "r2_leads, r2_hands = round1(hands_dealt=hands5)"
   ]
  },
  {
   "cell_type": "code",
   "execution_count": null,
   "metadata": {},
   "outputs": [
    {
     "name": "stdout",
     "output_type": "stream",
     "text": [
      "4424\n"
     ]
    }
   ],
   "source": [
    "r3_leads, r3_hands, r2_score = next_round(current_hands=r2_hands, leads=r2_leads, game_round=2, game_score=r2_leads.reshape(-1, 1))"
   ]
  },
  {
   "cell_type": "code",
   "execution_count": null,
   "metadata": {},
   "outputs": [
    {
     "name": "stdout",
     "output_type": "stream",
     "text": [
      "125595\n"
     ]
    }
   ],
   "source": [
    "r4_leads, r4_hands, r3_score = next_round(current_hands=r3_hands, leads=r3_leads, game_round=3, game_score=r2_score)"
   ]
  },
  {
   "cell_type": "code",
   "execution_count": null,
   "metadata": {},
   "outputs": [
    {
     "name": "stdout",
     "output_type": "stream",
     "text": [
      "1116432\n"
     ]
    }
   ],
   "source": [
    "r5_leads, r5_hands, r4_score = next_round(current_hands=r4_hands, leads=r4_leads, game_round=4, game_score=r3_score)"
   ]
  },
  {
   "cell_type": "code",
   "execution_count": null,
   "metadata": {},
   "outputs": [
    {
     "name": "stdout",
     "output_type": "stream",
     "text": [
      "1116432\n"
     ]
    }
   ],
   "source": [
    "r6_leads, r6_hands, r5_score = next_round(current_hands=r5_hands, leads=r5_leads, game_round=5, game_score=r4_score)"
   ]
  },
  {
   "cell_type": "code",
   "execution_count": null,
   "metadata": {},
   "outputs": [],
   "source": [
    "results = r5_score.reshape(r5_score.shape[0], 5)"
   ]
  },
  {
   "cell_type": "code",
   "execution_count": null,
   "metadata": {},
   "outputs": [
    {
     "data": {
      "text/plain": [
       "array([[0, 0, 2, 2, 2],\n",
       "       [0, 0, 2, 2, 2],\n",
       "       [0, 0, 2, 2, 2],\n",
       "       ...,\n",
       "       [3, 1, 3, 0, 0],\n",
       "       [3, 1, 3, 0, 0],\n",
       "       [3, 1, 3, 0, 0]])"
      ]
     },
     "execution_count": 33,
     "metadata": {},
     "output_type": "execute_result"
    }
   ],
   "source": [
    "results"
   ]
  },
  {
   "cell_type": "code",
   "execution_count": null,
   "metadata": {},
   "outputs": [
    {
     "data": {
      "text/plain": [
       "np.float64(0.8119007695945656)"
      ]
     },
     "execution_count": 34,
     "metadata": {},
     "output_type": "execute_result"
    }
   ],
   "source": [
    "np.mean([sum(i)<3 for i in results%2])"
   ]
  },
  {
   "cell_type": "code",
   "execution_count": null,
   "metadata": {},
   "outputs": [],
   "source": []
  }
 ],
 "metadata": {
  "kernelspec": {
   "display_name": "euchre_env",
   "language": "python",
   "name": "python3"
  },
  "language_info": {
   "codemirror_mode": {
    "name": "ipython",
    "version": 3
   },
   "file_extension": ".py",
   "mimetype": "text/x-python",
   "name": "python",
   "nbconvert_exporter": "python",
   "pygments_lexer": "ipython3",
   "version": "3.11.10"
  }
 },
 "nbformat": 4,
 "nbformat_minor": 2
}
