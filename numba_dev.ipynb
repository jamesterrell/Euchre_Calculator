{
 "cells": [
  {
   "cell_type": "code",
   "execution_count": 12,
   "metadata": {},
   "outputs": [],
   "source": [
    "from deck import full_euchre_deck\n",
    "from dealer import Dealer\n",
    "from n_play_round import round1, next_round\n",
    "import numpy as np\n",
    "from numba import njit\n",
    "from n_branches import n_find_winner, array_set_difference"
   ]
  },
  {
   "cell_type": "code",
   "execution_count": 24,
   "metadata": {},
   "outputs": [],
   "source": [
    "loner = np.array([[0, 135], [ 0, 140], [9, 0], [-9, 0], [0, -9]])"
   ]
  },
  {
   "cell_type": "code",
   "execution_count": 25,
   "metadata": {},
   "outputs": [],
   "source": [
    "game = Dealer(deck=full_euchre_deck ,players=4)\n",
    "game.stack_deck(stack_cards=loner, player=1)\n",
    "game.deal_cards()\n",
    "hands5 = np.array([game.hand1, game.hand2, game.hand3, game.hand4])"
   ]
  },
  {
   "cell_type": "code",
   "execution_count": 26,
   "metadata": {},
   "outputs": [
    {
     "data": {
      "text/plain": [
       "array([[[  0, 135],\n",
       "        [  0, 140],\n",
       "        [  9,   0],\n",
       "        [ -9,   0],\n",
       "        [  0,  -9]],\n",
       "\n",
       "       [[  0, 110],\n",
       "        [ 13,   0],\n",
       "        [ 11,   0],\n",
       "        [  0, 100],\n",
       "        [  0, -13]],\n",
       "\n",
       "       [[-14,   0],\n",
       "        [-13,   0],\n",
       "        [-12,   0],\n",
       "        [ 14,   0],\n",
       "        [ 12,   0]],\n",
       "\n",
       "       [[  0, 120],\n",
       "        [-10,   0],\n",
       "        [  0,  90],\n",
       "        [  0, -10],\n",
       "        [  0, -14]]])"
      ]
     },
     "execution_count": 26,
     "metadata": {},
     "output_type": "execute_result"
    }
   ],
   "source": [
    "hands5"
   ]
  },
  {
   "cell_type": "code",
   "execution_count": 27,
   "metadata": {},
   "outputs": [
    {
     "name": "stdout",
     "output_type": "stream",
     "text": [
      "85\n"
     ]
    }
   ],
   "source": [
    "r2_leads, r2_hands = round1(hands_dealt=hands5)"
   ]
  },
  {
   "cell_type": "code",
   "execution_count": 28,
   "metadata": {},
   "outputs": [
    {
     "name": "stdout",
     "output_type": "stream",
     "text": [
      "4424\n"
     ]
    }
   ],
   "source": [
    "r3_leads, r3_hands, r2_score = next_round(current_hands=r2_hands, leads=r2_leads, game_round=2, game_score=r2_leads.reshape(-1, 1))"
   ]
  },
  {
   "cell_type": "code",
   "execution_count": 29,
   "metadata": {},
   "outputs": [
    {
     "name": "stdout",
     "output_type": "stream",
     "text": [
      "125595\n"
     ]
    }
   ],
   "source": [
    "r4_leads, r4_hands, r3_score = next_round(current_hands=r3_hands, leads=r3_leads, game_round=3, game_score=r2_score)"
   ]
  },
  {
   "cell_type": "code",
   "execution_count": 30,
   "metadata": {},
   "outputs": [
    {
     "name": "stdout",
     "output_type": "stream",
     "text": [
      "1116432\n"
     ]
    }
   ],
   "source": [
    "r5_leads, r5_hands, r4_score = next_round(current_hands=r4_hands, leads=r4_leads, game_round=4, game_score=r3_score)"
   ]
  },
  {
   "cell_type": "code",
   "execution_count": 31,
   "metadata": {},
   "outputs": [
    {
     "name": "stdout",
     "output_type": "stream",
     "text": [
      "1116432\n"
     ]
    }
   ],
   "source": [
    "r6_leads, r6_hands, r5_score = next_round(current_hands=r5_hands, leads=r5_leads, game_round=5, game_score=r4_score)"
   ]
  },
  {
   "cell_type": "code",
   "execution_count": 32,
   "metadata": {},
   "outputs": [],
   "source": [
    "results = r5_score.reshape(r5_score.shape[0], 5)"
   ]
  },
  {
   "cell_type": "code",
   "execution_count": 33,
   "metadata": {},
   "outputs": [
    {
     "data": {
      "text/plain": [
       "array([[0, 0, 2, 2, 2],\n",
       "       [0, 0, 2, 2, 2],\n",
       "       [0, 0, 2, 2, 2],\n",
       "       ...,\n",
       "       [3, 1, 3, 0, 0],\n",
       "       [3, 1, 3, 0, 0],\n",
       "       [3, 1, 3, 0, 0]])"
      ]
     },
     "execution_count": 33,
     "metadata": {},
     "output_type": "execute_result"
    }
   ],
   "source": [
    "results"
   ]
  },
  {
   "cell_type": "code",
   "execution_count": 34,
   "metadata": {},
   "outputs": [
    {
     "data": {
      "text/plain": [
       "np.float64(0.8119007695945656)"
      ]
     },
     "execution_count": 34,
     "metadata": {},
     "output_type": "execute_result"
    }
   ],
   "source": [
    "np.mean([sum(i)<3 for i in results%2])"
   ]
  },
  {
   "cell_type": "code",
   "execution_count": null,
   "metadata": {},
   "outputs": [],
   "source": []
  }
 ],
 "metadata": {
  "kernelspec": {
   "display_name": "euchre_env",
   "language": "python",
   "name": "python3"
  },
  "language_info": {
   "codemirror_mode": {
    "name": "ipython",
    "version": 3
   },
   "file_extension": ".py",
   "mimetype": "text/x-python",
   "name": "python",
   "nbconvert_exporter": "python",
   "pygments_lexer": "ipython3",
   "version": "3.11.10"
  }
 },
 "nbformat": 4,
 "nbformat_minor": 2
}
