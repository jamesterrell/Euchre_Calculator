{
 "cells": [
  {
   "cell_type": "code",
   "execution_count": 1,
   "metadata": {},
   "outputs": [],
   "source": [
    "from deck import full_euchre_deck\n",
    "from dealer import Dealer\n",
    "from sim_game import game_sim\n",
    "from branch_calc import compute_set_difference\n",
    "import numpy as np"
   ]
  },
  {
   "cell_type": "code",
   "execution_count": 2,
   "metadata": {},
   "outputs": [],
   "source": [
    "stack_cards1 = np.array([[0, 135], [ 0, 140], [9, 0], [-9, 0], [0, -9]])"
   ]
  },
  {
   "cell_type": "code",
   "execution_count": 3,
   "metadata": {},
   "outputs": [],
   "source": [
    "test_hands = []\n",
    "for i in range(10000):\n",
    "    game = Dealer(deck=full_euchre_deck ,players=4)\n",
    "    game.stack_deck(stack_cards=stack_cards1, player=1)\n",
    "    game.deal_cards()\n",
    "    hands5 = [game.hand1, game.hand2, game.hand3, game.hand4]\n",
    "    test_hands.append(hands5)"
   ]
  },
  {
   "cell_type": "code",
   "execution_count": 4,
   "metadata": {},
   "outputs": [
    {
     "ename": "TypingError",
     "evalue": "Failed in nopython mode pipeline (step: nopython frontend)\n\u001b[1m\u001b[1m\u001b[1mNo implementation of function Function(<function norm at 0x0000021B35AF3C40>) found for signature:\n \n >>> norm(array(int64, 3d, C), axis=Literal[int](2))\n \nThere are 2 candidate implementations:\n\u001b[1m  - Of which 2 did not match due to:\n  Overload in function 'norm_impl': File: numba\\np\\linalg.py: Line 2427.\n    With argument(s): '(array(int64, 3d, C), axis=int64)':\u001b[0m\n\u001b[1m   Rejected as the implementation raised a specific error:\n     TypingError: \u001b[1mgot an unexpected keyword argument 'axis'\u001b[0m\u001b[0m\n  raised from c:\\Users\\terre\\miniconda3\\envs\\euchre_env\\Lib\\site-packages\\numba\\core\\typing\\templates.py:783\n\u001b[0m\n\u001b[0m\u001b[1mDuring: resolving callee type: Function(<function norm at 0x0000021B35AF3C40>)\u001b[0m\n\u001b[0m\u001b[1mDuring: typing of call at c:\\Users\\terre\\OneDrive\\Desktop\\Projects\\Euchre_Calculator\\play_round.py (36)\n\u001b[0m\n\u001b[1m\nFile \"play_round.py\", line 36:\u001b[0m\n\u001b[1mdef find_winners_vectorized(leads, tricks):\n    <source elided>\n# Calculate norms for all cards in all tricks at once\n\u001b[1m    norms = np.linalg.norm(tricks, axis=2)  # Shape: (N, 4)\n\u001b[0m    \u001b[1m^\u001b[0m\u001b[0m\n",
     "output_type": "error",
     "traceback": [
      "\u001b[1;31m---------------------------------------------------------------------------\u001b[0m",
      "\u001b[1;31mTypingError\u001b[0m                               Traceback (most recent call last)",
      "Cell \u001b[1;32mIn[4], line 2\u001b[0m\n\u001b[0;32m      1\u001b[0m \u001b[38;5;66;03m# 4 min 50 sec run time. \u001b[39;00m\n\u001b[1;32m----> 2\u001b[0m results \u001b[38;5;241m=\u001b[39m \u001b[43m[\u001b[49m\u001b[43mgame_sim\u001b[49m\u001b[43m(\u001b[49m\u001b[43mdealt_hands\u001b[49m\u001b[38;5;241;43m=\u001b[39;49m\u001b[43mtest\u001b[49m\u001b[43m,\u001b[49m\u001b[43m \u001b[49m\u001b[43mfirst_play\u001b[49m\u001b[38;5;241;43m=\u001b[39;49m\u001b[43m[\u001b[49m\u001b[38;5;241;43m1\u001b[39;49m\u001b[43m]\u001b[49m\u001b[43m,\u001b[49m\u001b[43m \u001b[49m\u001b[43msecond_play\u001b[49m\u001b[38;5;241;43m=\u001b[39;49m\u001b[43m[\u001b[49m\u001b[38;5;241;43m0\u001b[39;49m\u001b[43m]\u001b[49m\u001b[43m)\u001b[49m\u001b[43m \u001b[49m\u001b[38;5;28;43;01mfor\u001b[39;49;00m\u001b[43m \u001b[49m\u001b[43mtest\u001b[49m\u001b[43m \u001b[49m\u001b[38;5;129;43;01min\u001b[39;49;00m\u001b[43m \u001b[49m\u001b[43mtest_hands\u001b[49m\u001b[43m]\u001b[49m\n",
      "Cell \u001b[1;32mIn[4], line 2\u001b[0m, in \u001b[0;36m<listcomp>\u001b[1;34m(.0)\u001b[0m\n\u001b[0;32m      1\u001b[0m \u001b[38;5;66;03m# 4 min 50 sec run time. \u001b[39;00m\n\u001b[1;32m----> 2\u001b[0m results \u001b[38;5;241m=\u001b[39m [\u001b[43mgame_sim\u001b[49m\u001b[43m(\u001b[49m\u001b[43mdealt_hands\u001b[49m\u001b[38;5;241;43m=\u001b[39;49m\u001b[43mtest\u001b[49m\u001b[43m,\u001b[49m\u001b[43m \u001b[49m\u001b[43mfirst_play\u001b[49m\u001b[38;5;241;43m=\u001b[39;49m\u001b[43m[\u001b[49m\u001b[38;5;241;43m1\u001b[39;49m\u001b[43m]\u001b[49m\u001b[43m,\u001b[49m\u001b[43m \u001b[49m\u001b[43msecond_play\u001b[49m\u001b[38;5;241;43m=\u001b[39;49m\u001b[43m[\u001b[49m\u001b[38;5;241;43m0\u001b[39;49m\u001b[43m]\u001b[49m\u001b[43m)\u001b[49m \u001b[38;5;28;01mfor\u001b[39;00m test \u001b[38;5;129;01min\u001b[39;00m test_hands]\n",
      "File \u001b[1;32mc:\\Users\\terre\\OneDrive\\Desktop\\Projects\\Euchre_Calculator\\sim_game.py:16\u001b[0m, in \u001b[0;36mgame_sim\u001b[1;34m(dealt_hands, first_play, second_play)\u001b[0m\n\u001b[0;32m     13\u001b[0m     round1_play \u001b[38;5;241m=\u001b[39m round1\u001b[38;5;241m.\u001b[39mplay_round()\n\u001b[0;32m     14\u001b[0m     round1_tricks\u001b[38;5;241m.\u001b[39mappend(round1_play)\n\u001b[0;32m     15\u001b[0m     score\u001b[38;5;241m.\u001b[39mappend(\n\u001b[1;32m---> 16\u001b[0m         \u001b[43mfind_winners_vectorized\u001b[49m\u001b[43m(\u001b[49m\n\u001b[0;32m     17\u001b[0m \u001b[43m            \u001b[49m\u001b[43mleads\u001b[49m\u001b[38;5;241;43m=\u001b[39;49m\u001b[43mnp\u001b[49m\u001b[38;5;241;43m.\u001b[39;49m\u001b[43mzeros\u001b[49m\u001b[43m(\u001b[49m\u001b[38;5;28;43mlen\u001b[39;49m\u001b[43m(\u001b[49m\u001b[43mround1_play\u001b[49m\u001b[43m)\u001b[49m\u001b[43m,\u001b[49m\u001b[43m \u001b[49m\u001b[43mdtype\u001b[49m\u001b[38;5;241;43m=\u001b[39;49m\u001b[38;5;28;43mint\u001b[39;49m\u001b[43m)\u001b[49m\u001b[43m,\u001b[49m\u001b[43m \u001b[49m\u001b[43mtricks\u001b[49m\u001b[38;5;241;43m=\u001b[39;49m\u001b[43mround1_play\u001b[49m\n\u001b[0;32m     18\u001b[0m \u001b[43m        \u001b[49m\u001b[43m)\u001b[49m\n\u001b[0;32m     19\u001b[0m     )\n\u001b[0;32m     20\u001b[0m score \u001b[38;5;241m=\u001b[39m np\u001b[38;5;241m.\u001b[39mconcatenate(score)\n\u001b[0;32m     21\u001b[0m round1_tricks \u001b[38;5;241m=\u001b[39m np\u001b[38;5;241m.\u001b[39mconcatenate(round1_tricks)\n",
      "File \u001b[1;32mc:\\Users\\terre\\miniconda3\\envs\\euchre_env\\Lib\\site-packages\\numba\\core\\dispatcher.py:423\u001b[0m, in \u001b[0;36m_DispatcherBase._compile_for_args\u001b[1;34m(self, *args, **kws)\u001b[0m\n\u001b[0;32m    419\u001b[0m         msg \u001b[38;5;241m=\u001b[39m (\u001b[38;5;124mf\u001b[39m\u001b[38;5;124m\"\u001b[39m\u001b[38;5;132;01m{\u001b[39;00m\u001b[38;5;28mstr\u001b[39m(e)\u001b[38;5;241m.\u001b[39mrstrip()\u001b[38;5;132;01m}\u001b[39;00m\u001b[38;5;124m \u001b[39m\u001b[38;5;130;01m\\n\u001b[39;00m\u001b[38;5;130;01m\\n\u001b[39;00m\u001b[38;5;124mThis error may have been caused \u001b[39m\u001b[38;5;124m\"\u001b[39m\n\u001b[0;32m    420\u001b[0m                \u001b[38;5;124mf\u001b[39m\u001b[38;5;124m\"\u001b[39m\u001b[38;5;124mby the following argument(s):\u001b[39m\u001b[38;5;130;01m\\n\u001b[39;00m\u001b[38;5;132;01m{\u001b[39;00margs_str\u001b[38;5;132;01m}\u001b[39;00m\u001b[38;5;130;01m\\n\u001b[39;00m\u001b[38;5;124m\"\u001b[39m)\n\u001b[0;32m    421\u001b[0m         e\u001b[38;5;241m.\u001b[39mpatch_message(msg)\n\u001b[1;32m--> 423\u001b[0m     \u001b[43merror_rewrite\u001b[49m\u001b[43m(\u001b[49m\u001b[43me\u001b[49m\u001b[43m,\u001b[49m\u001b[43m \u001b[49m\u001b[38;5;124;43m'\u001b[39;49m\u001b[38;5;124;43mtyping\u001b[39;49m\u001b[38;5;124;43m'\u001b[39;49m\u001b[43m)\u001b[49m\n\u001b[0;32m    424\u001b[0m \u001b[38;5;28;01mexcept\u001b[39;00m errors\u001b[38;5;241m.\u001b[39mUnsupportedError \u001b[38;5;28;01mas\u001b[39;00m e:\n\u001b[0;32m    425\u001b[0m     \u001b[38;5;66;03m# Something unsupported is present in the user code, add help info\u001b[39;00m\n\u001b[0;32m    426\u001b[0m     error_rewrite(e, \u001b[38;5;124m'\u001b[39m\u001b[38;5;124munsupported_error\u001b[39m\u001b[38;5;124m'\u001b[39m)\n",
      "File \u001b[1;32mc:\\Users\\terre\\miniconda3\\envs\\euchre_env\\Lib\\site-packages\\numba\\core\\dispatcher.py:364\u001b[0m, in \u001b[0;36m_DispatcherBase._compile_for_args.<locals>.error_rewrite\u001b[1;34m(e, issue_type)\u001b[0m\n\u001b[0;32m    362\u001b[0m     \u001b[38;5;28;01mraise\u001b[39;00m e\n\u001b[0;32m    363\u001b[0m \u001b[38;5;28;01melse\u001b[39;00m:\n\u001b[1;32m--> 364\u001b[0m     \u001b[38;5;28;01mraise\u001b[39;00m e\u001b[38;5;241m.\u001b[39mwith_traceback(\u001b[38;5;28;01mNone\u001b[39;00m)\n",
      "\u001b[1;31mTypingError\u001b[0m: Failed in nopython mode pipeline (step: nopython frontend)\n\u001b[1m\u001b[1m\u001b[1mNo implementation of function Function(<function norm at 0x0000021B35AF3C40>) found for signature:\n \n >>> norm(array(int64, 3d, C), axis=Literal[int](2))\n \nThere are 2 candidate implementations:\n\u001b[1m  - Of which 2 did not match due to:\n  Overload in function 'norm_impl': File: numba\\np\\linalg.py: Line 2427.\n    With argument(s): '(array(int64, 3d, C), axis=int64)':\u001b[0m\n\u001b[1m   Rejected as the implementation raised a specific error:\n     TypingError: \u001b[1mgot an unexpected keyword argument 'axis'\u001b[0m\u001b[0m\n  raised from c:\\Users\\terre\\miniconda3\\envs\\euchre_env\\Lib\\site-packages\\numba\\core\\typing\\templates.py:783\n\u001b[0m\n\u001b[0m\u001b[1mDuring: resolving callee type: Function(<function norm at 0x0000021B35AF3C40>)\u001b[0m\n\u001b[0m\u001b[1mDuring: typing of call at c:\\Users\\terre\\OneDrive\\Desktop\\Projects\\Euchre_Calculator\\play_round.py (36)\n\u001b[0m\n\u001b[1m\nFile \"play_round.py\", line 36:\u001b[0m\n\u001b[1mdef find_winners_vectorized(leads, tricks):\n    <source elided>\n# Calculate norms for all cards in all tricks at once\n\u001b[1m    norms = np.linalg.norm(tricks, axis=2)  # Shape: (N, 4)\n\u001b[0m    \u001b[1m^\u001b[0m\u001b[0m\n"
     ]
    }
   ],
   "source": [
    "# 4 min 50 sec run time. \n",
    "results = [game_sim(dealt_hands=test, first_play=[1], second_play=[0]) for test in test_hands]"
   ]
  },
  {
   "cell_type": "code",
   "execution_count": null,
   "metadata": {},
   "outputs": [
    {
     "data": {
      "text/plain": [
       "np.float64(0.6001)"
      ]
     },
     "execution_count": 5,
     "metadata": {},
     "output_type": "execute_result"
    }
   ],
   "source": [
    "win_avg = [res<.5 for res in results]\n",
    "np.mean(win_avg)"
   ]
  }
 ],
 "metadata": {
  "kernelspec": {
   "display_name": "euchre_env",
   "language": "python",
   "name": "python3"
  },
  "language_info": {
   "codemirror_mode": {
    "name": "ipython",
    "version": 3
   },
   "file_extension": ".py",
   "mimetype": "text/x-python",
   "name": "python",
   "nbconvert_exporter": "python",
   "pygments_lexer": "ipython3",
   "version": "3.11.10"
  }
 },
 "nbformat": 4,
 "nbformat_minor": 2
}
