{
 "cells": [
  {
   "cell_type": "code",
   "execution_count": 1,
   "metadata": {},
   "outputs": [],
   "source": [
    "from deck import full_euchre_deck\n",
    "from dealer import Dealer\n",
    "from n_game_sim import meta_game_sim\n",
    "import numpy as np"
   ]
  },
  {
   "cell_type": "code",
   "execution_count": 11,
   "metadata": {},
   "outputs": [],
   "source": [
    "evaluate = np.array(\n",
    "    [  # left bower  (Jack of clubs)\n",
    "        [0, 140],  # left bower  (Jack of clubs)\n",
    "    ]\n",
    ")"
   ]
  },
  {
   "cell_type": "code",
   "execution_count": 12,
   "metadata": {},
   "outputs": [],
   "source": [
    "meta_hands = np.zeros(shape=(100, 4, 5, 2), dtype=np.int64)\n",
    "for i in range(100):    \n",
    "    game = Dealer(deck=full_euchre_deck ,players=4)\n",
    "    game.stack_deck(stack_cards=evaluate, player=1)\n",
    "    # game.stack_deck(stack_cards=dealer_pick, player=4)\n",
    "    game.deal_cards()\n",
    "    hands5 = np.array([game.hand1, game.hand2, game.hand3, game.hand4])\n",
    "    meta_hands[i] = hands5"
   ]
  },
  {
   "cell_type": "code",
   "execution_count": 13,
   "metadata": {},
   "outputs": [
    {
     "data": {
      "text/plain": [
       "0.04"
      ]
     },
     "execution_count": 13,
     "metadata": {},
     "output_type": "execute_result"
    }
   ],
   "source": [
    "# no go alone feature yet. \n",
    "\n",
    "meta_game_sim(meta_hands=meta_hands, eval_position=0)"
   ]
  }
 ],
 "metadata": {
  "kernelspec": {
   "display_name": "euchre_env",
   "language": "python",
   "name": "python3"
  },
  "language_info": {
   "codemirror_mode": {
    "name": "ipython",
    "version": 3
   },
   "file_extension": ".py",
   "mimetype": "text/x-python",
   "name": "python",
   "nbconvert_exporter": "python",
   "pygments_lexer": "ipython3",
   "version": "3.11.10"
  }
 },
 "nbformat": 4,
 "nbformat_minor": 2
}
